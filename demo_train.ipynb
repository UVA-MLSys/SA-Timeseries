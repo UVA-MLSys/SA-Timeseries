{
 "cells": [
  {
   "cell_type": "markdown",
   "metadata": {},
   "source": [
    "# Import"
   ]
  },
  {
   "cell_type": "code",
   "execution_count": 2,
   "metadata": {},
   "outputs": [],
   "source": [
    "from run import *\n",
    "import pandas as pd\n",
    "from torch import nn\n",
    "\n",
    "parser = get_parser()\n",
    "argv = \"\"\"\n",
    "  --root_path ./dataset/illness/ \\\n",
    "  --data_path national_illness.csv \\\n",
    "  --model DLinear \\\n",
    "  --use_gpu\n",
    "  --features MS \\\n",
    "  --seq_len 36 \\\n",
    "  --label_len 12 \\\n",
    "  --pred_len 24 \\\n",
    "  --n_features 7\n",
    "\"\"\".split()\n",
    "args = parser.parse_args(argv)\n",
    "initial_setup(args)"
   ]
  },
  {
   "cell_type": "code",
   "execution_count": 3,
   "metadata": {},
   "outputs": [
    {
     "name": "stdout",
     "output_type": "stream",
     "text": [
      "Use GPU: cuda:0\n",
      "Experiments will be saved in ./results\\national_illness_DLinear\n",
      "train 713\n"
     ]
    }
   ],
   "source": [
    "exp = Exp_Long_Term_Forecast(args)  # set experiments\n",
    "_, dataloader = exp._get_data('train')"
   ]
  },
  {
   "cell_type": "code",
   "execution_count": null,
   "metadata": {},
   "outputs": [],
   "source": [
    "batch_x, batch_y, batch_x_mark, batch_y_mark = next(iter(dataloader))\n",
    "batch_x = batch_x.float().to(exp.device)\n",
    "batch_y = batch_y.float().to(exp.device)\n",
    "\n",
    "batch_x_mark = batch_x_mark.float().to(exp.device)\n",
    "batch_y_mark = batch_y_mark.float().to(exp.device)\n",
    "# decoder input\n",
    "dec_inp = torch.zeros_like(batch_y[:, -exp.args.pred_len:, :]).float()\n",
    "dec_inp = torch.cat([batch_y[:, :exp.args.label_len, :], dec_inp], dim=1).float()"
   ]
  },
  {
   "cell_type": "markdown",
   "metadata": {},
   "source": [
    "# RNN"
   ]
  },
  {
   "cell_type": "code",
   "execution_count": 15,
   "metadata": {},
   "outputs": [],
   "source": [
    "class _RNN_Base(nn.Module):\n",
    "    def __init__(\n",
    "        self, configs, c_out=1, hidden_size=64, n_layers=1, \n",
    "        bias=True, rnn_dropout=0, bidirectional=False, \n",
    "        fc_dropout=0., init_weights=True\n",
    "    ):\n",
    "        super(_RNN_Base, self).__init__()\n",
    "        self.configs = configs\n",
    "        self.rnn = self._cell(\n",
    "            configs.enc_in, hidden_size, num_layers=n_layers, \n",
    "            bias=bias, batch_first=True, dropout=rnn_dropout, \n",
    "            bidirectional=bidirectional\n",
    "        )\n",
    "        self.dropout = nn.Dropout(fc_dropout) if fc_dropout else nn.Identity()\n",
    "        self.bn = nn.BatchNorm1d(num_features=hidden_size)\n",
    "        \n",
    "        if args.task_name == 'classification':\n",
    "            self.projection = nn.Linear(hidden_size * (1 + bidirectional), configs.num_class)\n",
    "            if configs.num_class>1:\n",
    "                # for multiclass classifier\n",
    "                self.activation = nn.Softmax(dim=1)\n",
    "            else:\n",
    "                self.activation = nn.Sigmoid()\n",
    "        else:\n",
    "            self.projection = nn.Linear(hidden_size * (1 + bidirectional), configs.pred_len*configs.c_out)\n",
    "        \n",
    "        \n",
    "        if init_weights: self.apply(self._weights_init)\n",
    "\n",
    "    def forward(self, x): \n",
    "        # batch_size x seq_len x n_vars\n",
    "        output, _ = self.rnn(x) # output from all sequence steps: [batch_size x seq_len x hidden_size * (1 + bidirectional)]\n",
    "        output = output[:, -1]  # output from last sequence step : [batch_size x hidden_size * (1 + bidirectional)]\n",
    "        \n",
    "        output = self.projection(self.dropout(self.bn(output)))\n",
    "        if args.task_name == 'classification':\n",
    "            return self.activation(output)\n",
    "        else:\n",
    "            output = output.reshape((-1, self.configs.pred_len, self.configs.c_out))\n",
    "            f_dim = -1 if self.configs.features == 'MS' else 0\n",
    "            return output[:, :, f_dim:]\n",
    "    \n",
    "    def _weights_init(self, m): \n",
    "        # same initialization as keras. Adapted from the initialization developed \n",
    "        # by JUN KODA (https://www.kaggle.com/junkoda) in this notebook\n",
    "        # https://www.kaggle.com/junkoda/pytorch-lstm-with-tensorflow-like-initialization\n",
    "        for name, params in m.named_parameters():\n",
    "            if \"weight_ih\" in name: \n",
    "                nn.init.xavier_normal_(params)\n",
    "            elif 'weight_hh' in name: \n",
    "                nn.init.orthogonal_(params)\n",
    "            elif 'bias_ih' in name:\n",
    "                params.data.fill_(0)\n",
    "                # Set forget-gate bias to 1\n",
    "                n = params.size(0)\n",
    "                params.data[(n // 4):(n // 2)].fill_(1)\n",
    "            elif 'bias_hh' in name:\n",
    "                params.data.fill_(0)\n",
    "        \n",
    "class RNN(_RNN_Base):\n",
    "    _cell = nn.RNN\n",
    "    \n",
    "class LSTM(_RNN_Base):\n",
    "    _cell = nn.LSTM\n",
    "    \n",
    "class GRU(_RNN_Base):\n",
    "    _cell = nn.GRU"
   ]
  },
  {
   "cell_type": "code",
   "execution_count": 13,
   "metadata": {},
   "outputs": [],
   "source": [
    "model = LSTM(args)\n",
    "model = model.to(exp.device).float()"
   ]
  },
  {
   "cell_type": "code",
   "execution_count": 14,
   "metadata": {},
   "outputs": [
    {
     "data": {
      "text/plain": [
       "torch.Size([32, 24, 1])"
      ]
     },
     "execution_count": 14,
     "metadata": {},
     "output_type": "execute_result"
    }
   ],
   "source": [
    "output = model(batch_x)\n",
    "output.shape"
   ]
  },
  {
   "cell_type": "markdown",
   "metadata": {},
   "source": [
    "# TCN"
   ]
  },
  {
   "cell_type": "code",
   "execution_count": 73,
   "metadata": {},
   "outputs": [],
   "source": [
    "from torch.nn.utils import weight_norm\n",
    "\n",
    "\n",
    "class Chomp1d(nn.Module):\n",
    "    def __init__(self, chomp_size):\n",
    "        super(Chomp1d, self).__init__()\n",
    "        self.chomp_size = chomp_size\n",
    "        \n",
    "    def forward(self, x):\n",
    "        return x[:, :, :-self.chomp_size].contiguous()\n",
    "    \n",
    "class Reshape(nn.Module):\n",
    "    def __init__(self, *shape):\n",
    "        super(Reshape, self).__init__() \n",
    "        self.shape = shape\n",
    "    def forward(self, x):\n",
    "        return x.reshape(x.shape[0], -1) if not self.shape else x.reshape(-1) if self.shape == (-1,) else x.reshape(x.shape[0], *self.shape)\n",
    "    def __repr__(self): return f\"{self.__class__.__name__}({', '.join(['bs'] + [str(s) for s in self.shape])})\"\n",
    "    \n",
    "    \n",
    "class GAP1d(nn.Module):\n",
    "    \"Global Adaptive Pooling + Flatten\"\n",
    "    def __init__(self, output_size=1):\n",
    "        super(GAP1d, self).__init__() \n",
    "        self.gap = nn.AdaptiveAvgPool1d(output_size)\n",
    "        self.flatten = Reshape()\n",
    "    def forward(self, x):\n",
    "        return self.flatten(self.gap(x))\n",
    "\n",
    "class TemporalBlock(nn.Module):\n",
    "    def __init__(self, ni, nf, ks, stride, dilation, padding, dropout=0.):\n",
    "        super(TemporalBlock, self).__init__() \n",
    "        self.conv1 = weight_norm(nn.Conv1d(ni,nf,ks,stride=stride,padding=padding,dilation=dilation))\n",
    "        self.chomp1 = Chomp1d(padding)\n",
    "        self.relu1 = nn.ReLU()\n",
    "        self.dropout1 = nn.Dropout(dropout)\n",
    "        self.conv2 = weight_norm(nn.Conv1d(nf,nf,ks,stride=stride,padding=padding,dilation=dilation))\n",
    "        self.chomp2 = Chomp1d(padding)\n",
    "        self.relu2 = nn.ReLU()\n",
    "        self.dropout2 = nn.Dropout(dropout)\n",
    "        self.net = nn.Sequential(self.conv1, self.chomp1, self.relu1, self.dropout1, \n",
    "                                 self.conv2, self.chomp2, self.relu2, self.dropout2)\n",
    "        self.downsample = nn.Conv1d(ni,nf,1) if ni != nf else None\n",
    "        self.relu = nn.ReLU()\n",
    "        self.init_weights()\n",
    "\n",
    "    def init_weights(self):\n",
    "        self.conv1.weight.data.normal_(0, 0.01)\n",
    "        self.conv2.weight.data.normal_(0, 0.01)\n",
    "        if self.downsample is not None: self.downsample.weight.data.normal_(0, 0.01)\n",
    "\n",
    "    def forward(self, x):\n",
    "        out = self.net(x)\n",
    "        res = x if self.downsample is None else self.downsample(x)\n",
    "        return self.relu(out + res)\n",
    "\n",
    "def TemporalConvNet(c_in, layers, ks=2, dropout=0.):\n",
    "    temp_layers = []\n",
    "    for i in range(len(layers)):\n",
    "        dilation_size = 2 ** i\n",
    "        ni = c_in if i == 0 else layers[i-1]\n",
    "        nf = layers[i]\n",
    "        temp_layers += [TemporalBlock(ni, nf, ks, stride=1, dilation=dilation_size, padding=(ks-1) * dilation_size, dropout=dropout)]\n",
    "    return nn.Sequential(*temp_layers)\n",
    "\n",
    "class TCN(nn.Module):\n",
    "    def __init__(self, configs, c_in, c_out, layers=8*[25], ks=7, conv_dropout=0., fc_dropout=0.):\n",
    "        super(TCN, self).__init__()\n",
    "        self.configs = configs \n",
    "        self.task_name = configs.task_name\n",
    "        \n",
    "        self.tcn = TemporalConvNet(c_in, layers, ks=ks, dropout=conv_dropout)\n",
    "        self.dropout = nn.Dropout(fc_dropout) if fc_dropout else None\n",
    "        self.gap = GAP1d()\n",
    "        \n",
    "        if self.task_name == 'classification':\n",
    "            self.linear = nn.Linear(layers[-1], configs.num_class)\n",
    "        else:\n",
    "            self.linear = nn.Linear(layers[-1], configs.pred_len*c_out)\n",
    "        \n",
    "        self.init_weights()\n",
    "\n",
    "    def init_weights(self):\n",
    "        self.linear.weight.data.normal_(0, 0.01)\n",
    "\n",
    "    def forward(self, x):\n",
    "        # batch x seq_len x features -> batch x features x seq_len\n",
    "        x = x.permute(0, 2, 1)\n",
    "        # batch x hidden_size x seq_len\n",
    "        x = self.tcn(x)\n",
    "        \n",
    "        # pools over the second dimension. \n",
    "        # [dim 0, (gap_output size x dim 2)]\n",
    "        x = self.gap(x)\n",
    "\n",
    "        if self.dropout is not None: x = self.dropout(x)\n",
    "        x = self.linear(x)\n",
    "        if self.task_name == 'classification':\n",
    "            return x # [B, N]\n",
    "        else:\n",
    "            x = x.reshape((-1, self.configs.pred_len, self.configs.c_out))\n",
    "            f_dim = -1 if self.configs.features == 'MS' else 0\n",
    "            return x[:, :, f_dim:]\n",
    "        return "
   ]
  },
  {
   "cell_type": "code",
   "execution_count": 58,
   "metadata": {},
   "outputs": [],
   "source": [
    "tcn = TemporalConvNet(c_in=7, layers=8*[25], ks=10, dropout=0).to(exp.device)"
   ]
  },
  {
   "cell_type": "code",
   "execution_count": 59,
   "metadata": {},
   "outputs": [],
   "source": [
    "x = tcn(batch_x.permute(0, 2, 1))"
   ]
  },
  {
   "cell_type": "code",
   "execution_count": 69,
   "metadata": {},
   "outputs": [],
   "source": [
    "gap = GAP1d(output_size=1).to(exp.device)\n",
    "x_gap = gap(x.permute(0, 2, 1))"
   ]
  },
  {
   "cell_type": "code",
   "execution_count": 74,
   "metadata": {},
   "outputs": [],
   "source": [
    "linear = nn.Linear(args.seq_len, args.c_out).to(exp.device)"
   ]
  },
  {
   "cell_type": "code",
   "execution_count": 75,
   "metadata": {},
   "outputs": [
    {
     "data": {
      "text/plain": [
       "torch.Size([32, 7])"
      ]
     },
     "execution_count": 75,
     "metadata": {},
     "output_type": "execute_result"
    }
   ],
   "source": [
    "x_linear = linear(x_gap)\n",
    "x_linear.shape"
   ]
  },
  {
   "cell_type": "code",
   "execution_count": null,
   "metadata": {},
   "outputs": [],
   "source": [
    "linear2 = nn.Linear(args.seq_len, args.pred_len*args.c_out).to(exp.device)"
   ]
  },
  {
   "cell_type": "code",
   "execution_count": 53,
   "metadata": {},
   "outputs": [],
   "source": [
    "model = TCN(configs=args, c_in=7, c_out=1)\n",
    "model = model.to(exp.device).float()"
   ]
  },
  {
   "cell_type": "code",
   "execution_count": 16,
   "metadata": {},
   "outputs": [],
   "source": [
    "output = model(batch_x)\n",
    "output.shape"
   ]
  }
 ],
 "metadata": {
  "kernelspec": {
   "display_name": "Python 3",
   "language": "python",
   "name": "python3"
  },
  "language_info": {
   "codemirror_mode": {
    "name": "ipython",
    "version": 3
   },
   "file_extension": ".py",
   "mimetype": "text/x-python",
   "name": "python",
   "nbconvert_exporter": "python",
   "pygments_lexer": "ipython3",
   "version": "3.10.11"
  }
 },
 "nbformat": 4,
 "nbformat_minor": 2
}
