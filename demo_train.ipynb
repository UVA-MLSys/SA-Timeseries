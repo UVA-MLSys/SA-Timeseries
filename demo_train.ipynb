{
 "cells": [
  {
   "cell_type": "markdown",
   "metadata": {},
   "source": [
    "# Import"
   ]
  },
  {
   "cell_type": "code",
   "execution_count": 3,
   "metadata": {},
   "outputs": [],
   "source": [
    "from run import *\n",
    "import pandas as pd\n",
    "from torch import nn\n",
    "\n",
    "parser = get_parser()\n",
    "argv = \"\"\"\n",
    "  --task_name classification \\\n",
    "  --data mimic \\\n",
    "  --result_path scratch \\\n",
    "  --use_gpu \\\n",
    "  --root_path ./dataset/mimic_iii/ \\\n",
    "  --data_path mimic_iii.pkl \\\n",
    "  --model DLinear \\\n",
    "  --flag train\n",
    "\"\"\".split()\n",
    "args = parser.parse_args(argv)\n",
    "initial_setup(args)"
   ]
  },
  {
   "cell_type": "code",
   "execution_count": 4,
   "metadata": {},
   "outputs": [
    {
     "name": "stdout",
     "output_type": "stream",
     "text": [
      "Use GPU: cuda:0\n",
      "train 18390\n",
      "test 2299\n",
      "Experiments will be saved in scratch\\mimic_iii_DLinear\n",
      "train 18390\n"
     ]
    }
   ],
   "source": [
    "if args.task_name == 'classification': Exp = Exp_Classification\n",
    "else: Exp = Exp_Long_Term_Forecast\n",
    "exp = Exp(args)  # set experiments\n",
    "_, dataloader = exp._get_data(args.flag)"
   ]
  },
  {
   "cell_type": "code",
   "execution_count": 11,
   "metadata": {},
   "outputs": [],
   "source": [
    "import pickle\n",
    "\n",
    "filepath = os.path.join(args.root_path, args.data_path)\n",
    "with open(filepath, 'rb') as input_file:\n",
    "    data = pickle.load(input_file)\n",
    "\n",
    "X = np.array([row[0] for row in data])\n",
    "# batch x features x seq_len -> batch x seq_len x features\n",
    "X = X.transpose((0, 2, 1))\n",
    "\n"
   ]
  },
  {
   "cell_type": "code",
   "execution_count": 13,
   "metadata": {},
   "outputs": [],
   "source": [
    "Y = np.array([int(row[1]) for row in data])\n",
    "labels = pd.Series(Y, dtype='category')\n",
    "class_names = labels.cat.categories\n",
    "labels_df = pd.DataFrame(labels.cat.codes,\n",
    "                            dtype=np.int8)"
   ]
  },
  {
   "cell_type": "code",
   "execution_count": 5,
   "metadata": {},
   "outputs": [],
   "source": [
    "batch_x, label, padding_mask = next(iter(dataloader))\n",
    "batch_x = batch_x.float().to(exp.device)\n",
    "padding_mask = padding_mask.float().to(exp.device)"
   ]
  },
  {
   "cell_type": "code",
   "execution_count": null,
   "metadata": {},
   "outputs": [],
   "source": [
    "batch_x, batch_y, batch_x_mark, batch_y_mark = next(iter(dataloader))\n",
    "batch_x = batch_x.float().to(exp.device)\n",
    "batch_y = batch_y.float().to(exp.device)\n",
    "\n",
    "batch_x_mark = batch_x_mark.float().to(exp.device)\n",
    "batch_y_mark = batch_y_mark.float().to(exp.device)\n",
    "# decoder input\n",
    "dec_inp = torch.zeros_like(batch_y[:, -exp.args.pred_len:, :]).float()\n",
    "dec_inp = torch.cat([batch_y[:, :exp.args.label_len, :], dec_inp], dim=1).float()"
   ]
  },
  {
   "cell_type": "code",
   "execution_count": 7,
   "metadata": {},
   "outputs": [],
   "source": [
    "_ = exp.model.eval()"
   ]
  },
  {
   "cell_type": "code",
   "execution_count": 8,
   "metadata": {},
   "outputs": [],
   "source": [
    "output = exp.model(batch_x, padding_mask, None, None)"
   ]
  },
  {
   "cell_type": "markdown",
   "metadata": {},
   "source": [
    "# RNN"
   ]
  },
  {
   "cell_type": "code",
   "execution_count": 5,
   "metadata": {},
   "outputs": [],
   "source": [
    "model = LSTM(args)\n",
    "model = model.to(exp.device).float()"
   ]
  },
  {
   "cell_type": "code",
   "execution_count": 6,
   "metadata": {},
   "outputs": [
    {
     "data": {
      "text/plain": [
       "torch.Size([32, 1])"
      ]
     },
     "execution_count": 6,
     "metadata": {},
     "output_type": "execute_result"
    }
   ],
   "source": [
    "output = model(batch_x)\n",
    "output.shape"
   ]
  },
  {
   "cell_type": "markdown",
   "metadata": {},
   "source": [
    "# TCN"
   ]
  },
  {
   "cell_type": "code",
   "execution_count": 73,
   "metadata": {},
   "outputs": [],
   "source": [
    "from torch.nn.utils import weight_norm\n",
    "\n",
    "\n",
    "class Chomp1d(nn.Module):\n",
    "    def __init__(self, chomp_size):\n",
    "        super(Chomp1d, self).__init__()\n",
    "        self.chomp_size = chomp_size\n",
    "        \n",
    "    def forward(self, x):\n",
    "        return x[:, :, :-self.chomp_size].contiguous()\n",
    "    \n",
    "class Reshape(nn.Module):\n",
    "    def __init__(self, *shape):\n",
    "        super(Reshape, self).__init__() \n",
    "        self.shape = shape\n",
    "    def forward(self, x):\n",
    "        return x.reshape(x.shape[0], -1) if not self.shape else x.reshape(-1) if self.shape == (-1,) else x.reshape(x.shape[0], *self.shape)\n",
    "    def __repr__(self): return f\"{self.__class__.__name__}({', '.join(['bs'] + [str(s) for s in self.shape])})\"\n",
    "    \n",
    "    \n",
    "class GAP1d(nn.Module):\n",
    "    \"Global Adaptive Pooling + Flatten\"\n",
    "    def __init__(self, output_size=1):\n",
    "        super(GAP1d, self).__init__() \n",
    "        self.gap = nn.AdaptiveAvgPool1d(output_size)\n",
    "        self.flatten = Reshape()\n",
    "    def forward(self, x):\n",
    "        return self.flatten(self.gap(x))\n",
    "\n",
    "class TemporalBlock(nn.Module):\n",
    "    def __init__(self, ni, nf, ks, stride, dilation, padding, dropout=0.):\n",
    "        super(TemporalBlock, self).__init__() \n",
    "        self.conv1 = weight_norm(nn.Conv1d(ni,nf,ks,stride=stride,padding=padding,dilation=dilation))\n",
    "        self.chomp1 = Chomp1d(padding)\n",
    "        self.relu1 = nn.ReLU()\n",
    "        self.dropout1 = nn.Dropout(dropout)\n",
    "        self.conv2 = weight_norm(nn.Conv1d(nf,nf,ks,stride=stride,padding=padding,dilation=dilation))\n",
    "        self.chomp2 = Chomp1d(padding)\n",
    "        self.relu2 = nn.ReLU()\n",
    "        self.dropout2 = nn.Dropout(dropout)\n",
    "        self.net = nn.Sequential(self.conv1, self.chomp1, self.relu1, self.dropout1, \n",
    "                                 self.conv2, self.chomp2, self.relu2, self.dropout2)\n",
    "        self.downsample = nn.Conv1d(ni,nf,1) if ni != nf else None\n",
    "        self.relu = nn.ReLU()\n",
    "        self.init_weights()\n",
    "\n",
    "    def init_weights(self):\n",
    "        self.conv1.weight.data.normal_(0, 0.01)\n",
    "        self.conv2.weight.data.normal_(0, 0.01)\n",
    "        if self.downsample is not None: self.downsample.weight.data.normal_(0, 0.01)\n",
    "\n",
    "    def forward(self, x):\n",
    "        out = self.net(x)\n",
    "        res = x if self.downsample is None else self.downsample(x)\n",
    "        return self.relu(out + res)\n",
    "\n",
    "def TemporalConvNet(c_in, layers, ks=2, dropout=0.):\n",
    "    temp_layers = []\n",
    "    for i in range(len(layers)):\n",
    "        dilation_size = 2 ** i\n",
    "        ni = c_in if i == 0 else layers[i-1]\n",
    "        nf = layers[i]\n",
    "        temp_layers += [TemporalBlock(ni, nf, ks, stride=1, dilation=dilation_size, padding=(ks-1) * dilation_size, dropout=dropout)]\n",
    "    return nn.Sequential(*temp_layers)\n",
    "\n",
    "class TCN(nn.Module):\n",
    "    def __init__(self, configs, c_in, c_out, layers=8*[25], ks=7, conv_dropout=0., fc_dropout=0.):\n",
    "        super(TCN, self).__init__()\n",
    "        self.configs = configs \n",
    "        self.task_name = configs.task_name\n",
    "        \n",
    "        self.tcn = TemporalConvNet(c_in, layers, ks=ks, dropout=conv_dropout)\n",
    "        self.dropout = nn.Dropout(fc_dropout) if fc_dropout else None\n",
    "        self.gap = GAP1d()\n",
    "        \n",
    "        if self.task_name == 'classification':\n",
    "            self.linear = nn.Linear(layers[-1], configs.num_class)\n",
    "        else:\n",
    "            self.linear = nn.Linear(layers[-1], configs.pred_len*c_out)\n",
    "        \n",
    "        self.init_weights()\n",
    "\n",
    "    def init_weights(self):\n",
    "        self.linear.weight.data.normal_(0, 0.01)\n",
    "\n",
    "    def forward(self, x):\n",
    "        # batch x seq_len x features -> batch x features x seq_len\n",
    "        x = x.permute(0, 2, 1)\n",
    "        # batch x hidden_size x seq_len\n",
    "        x = self.tcn(x)\n",
    "        \n",
    "        # pools over the second dimension. \n",
    "        # [dim 0, (gap_output size x dim 2)]\n",
    "        x = self.gap(x)\n",
    "\n",
    "        if self.dropout is not None: x = self.dropout(x)\n",
    "        x = self.linear(x)\n",
    "        if self.task_name == 'classification':\n",
    "            return x # [B, N]\n",
    "        else:\n",
    "            x = x.reshape((-1, self.configs.pred_len, self.configs.c_out))\n",
    "            f_dim = -1 if self.configs.features == 'MS' else 0\n",
    "            return x[:, :, f_dim:]\n",
    "        return "
   ]
  },
  {
   "cell_type": "code",
   "execution_count": 58,
   "metadata": {},
   "outputs": [],
   "source": [
    "tcn = TemporalConvNet(c_in=7, layers=8*[25], ks=10, dropout=0).to(exp.device)"
   ]
  },
  {
   "cell_type": "code",
   "execution_count": 59,
   "metadata": {},
   "outputs": [],
   "source": [
    "x = tcn(batch_x.permute(0, 2, 1))"
   ]
  },
  {
   "cell_type": "code",
   "execution_count": 69,
   "metadata": {},
   "outputs": [],
   "source": [
    "gap = GAP1d(output_size=1).to(exp.device)\n",
    "x_gap = gap(x.permute(0, 2, 1))"
   ]
  },
  {
   "cell_type": "code",
   "execution_count": 74,
   "metadata": {},
   "outputs": [],
   "source": [
    "linear = nn.Linear(args.seq_len, args.c_out).to(exp.device)"
   ]
  },
  {
   "cell_type": "code",
   "execution_count": 75,
   "metadata": {},
   "outputs": [
    {
     "data": {
      "text/plain": [
       "torch.Size([32, 7])"
      ]
     },
     "execution_count": 75,
     "metadata": {},
     "output_type": "execute_result"
    }
   ],
   "source": [
    "x_linear = linear(x_gap)\n",
    "x_linear.shape"
   ]
  },
  {
   "cell_type": "code",
   "execution_count": null,
   "metadata": {},
   "outputs": [],
   "source": [
    "linear2 = nn.Linear(args.seq_len, args.pred_len*args.c_out).to(exp.device)"
   ]
  },
  {
   "cell_type": "code",
   "execution_count": 53,
   "metadata": {},
   "outputs": [],
   "source": [
    "model = TCN(configs=args, c_in=7, c_out=1)\n",
    "model = model.to(exp.device).float()"
   ]
  },
  {
   "cell_type": "code",
   "execution_count": 16,
   "metadata": {},
   "outputs": [],
   "source": [
    "output = model(batch_x)\n",
    "output.shape"
   ]
  },
  {
   "cell_type": "markdown",
   "metadata": {},
   "source": []
  }
 ],
 "metadata": {
  "kernelspec": {
   "display_name": "Python 3",
   "language": "python",
   "name": "python3"
  },
  "language_info": {
   "codemirror_mode": {
    "name": "ipython",
    "version": 3
   },
   "file_extension": ".py",
   "mimetype": "text/x-python",
   "name": "python",
   "nbconvert_exporter": "python",
   "pygments_lexer": "ipython3",
   "version": "3.10.11"
  }
 },
 "nbformat": 4,
 "nbformat_minor": 2
}
