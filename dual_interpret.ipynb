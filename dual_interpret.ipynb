{
 "cells": [
  {
   "cell_type": "markdown",
   "metadata": {},
   "source": [
    "# Import"
   ]
  },
  {
   "cell_type": "code",
   "execution_count": 1,
   "metadata": {},
   "outputs": [],
   "source": [
    "from interpret import *\n",
    "from tint.metrics import mse, mae\n",
    "import tint, captum, gc\n",
    "from tqdm import tqdm\n",
    "import pandas as pd\n",
    "from utils.explainer import *\n",
    "from exp.exp_interpret import *\n",
    "from utils.tools import normalize_scale\n",
    "\n",
    "import matplotlib.pyplot as plt\n",
    "from utils.plot_config import *\n",
    "%matplotlib inline"
   ]
  },
  {
   "cell_type": "markdown",
   "metadata": {},
   "source": [
    "# Util"
   ]
  },
  {
   "cell_type": "code",
   "execution_count": 7,
   "metadata": {},
   "outputs": [],
   "source": [
    "from data.uea import collate_fn\n",
    "\n",
    "def prepare_input(\n",
    "    data, device, args\n",
    "):\n",
    "    if args.task_name == 'classification':\n",
    "        batch_x, batch_y, padding_mask = data\n",
    "        batch_x = batch_x.float().to(device)\n",
    "        batch_y= batch_y.float().to(device)\n",
    "        padding_mask = padding_mask.float().to(device)\n",
    "        \n",
    "        inputs = batch_x\n",
    "        additional_forward_args = (padding_mask, None, None)\n",
    "    else:\n",
    "        batch_x, batch_y, batch_x_mark, batch_y_mark = data\n",
    "        batch_x = batch_x.float().to(device)\n",
    "        batch_y = batch_y.float().to(device)\n",
    "\n",
    "        batch_x_mark = batch_x_mark.float().to(device)\n",
    "        batch_y_mark = batch_y_mark.float().to(device)\n",
    "        # decoder input\n",
    "        dec_inp = torch.zeros_like(batch_y[:, -args.pred_len:, :]).float()\n",
    "        dec_inp = torch.cat([batch_y[:, :args.label_len, :], dec_inp], dim=1).float()\n",
    "        \n",
    "        inputs = (batch_x, batch_x_mark)\n",
    "        additional_forward_args = (dec_inp, batch_y_mark)\n",
    "    \n",
    "    return (inputs, additional_forward_args, batch_y)\n",
    "\n",
    "def prepare_from_dataset(data, device, args):\n",
    "    if args.task_name == 'classification':\n",
    "        # already converted to tensor from numpy\n",
    "        batch_x, batch_y, padding_mask = collate_fn(data)\n",
    "        batch_x = batch_x.float().to(device)\n",
    "        batch_y= batch_y.float().to(device)\n",
    "        padding_mask = padding_mask.float().to(device)\n",
    "        \n",
    "        inputs = batch_x\n",
    "        additional_forward_args = (padding_mask, None, None)\n",
    "    else:\n",
    "        batch_x, batch_y, batch_x_mark, batch_y_mark = [\n",
    "            torch.stack(\n",
    "                [\n",
    "                    torch.tensor(d[i], dtype=float, device=device) \n",
    "                    for d in data\n",
    "                ]\n",
    "            ) \n",
    "            for i in range(4)\n",
    "        ]\n",
    "        batch_x = torch.tensor(batch_x).float().to(device)\n",
    "        batch_y = torch.tensor(batch_y).float().to(device)\n",
    "\n",
    "        batch_x_mark = torch.tensor(batch_x_mark).float().to(device)\n",
    "        batch_y_mark = torch.tensor(batch_y_mark).float().to(device)\n",
    "        # decoder input\n",
    "        dec_inp = torch.zeros_like(batch_y[:, -args.pred_len:, :]).float()\n",
    "        dec_inp = torch.cat([batch_y[:, :args.label_len, :], dec_inp], dim=1).float()\n",
    "        \n",
    "        inputs = (batch_x, batch_x_mark)\n",
    "        additional_forward_args = (dec_inp, batch_y_mark)\n",
    "    \n",
    "    return (inputs, additional_forward_args, batch_y)"
   ]
  },
  {
   "cell_type": "markdown",
   "metadata": {},
   "source": [
    "# Arguments"
   ]
  },
  {
   "cell_type": "code",
   "execution_count": 2,
   "metadata": {},
   "outputs": [],
   "source": [
    "parser = get_parser()\n",
    "\n",
    "# argv = \"\"\"\n",
    "#   --explainers integrated_gradients \\\n",
    "#   --task_name classification \\\n",
    "#   --data mimic \\\n",
    "#   --itr_no 1 \\\n",
    "#   --root_path ./dataset/mimic_iii/ \\\n",
    "#   --data_path mimic_iii.pkl \\\n",
    "#   --metrics auc accuracy cross_entropy \\\n",
    "#   --model Crossformer --n_features 31\n",
    "# \"\"\".split()\n",
    "\n",
    "# --explainers feature_ablation occlusion augmented_occlusion winIT tsr wtsr \\\n",
    "\n",
    "argv = \"\"\"\n",
    "  --task_name long_term_forecast \\\n",
    "  --explainers integrated_gradients \\\n",
    "  --root_path ./dataset/traffic/ \\\n",
    "  --data_path traffic.csv \\\n",
    "  --model Crossformer \\\n",
    "  --itr_no 1 \\\n",
    "  --features S \\\n",
    "  --seq_len 96 \\\n",
    "  --label_len 12 \\\n",
    "  --pred_len 24 \\\n",
    "  --n_features 1\n",
    "\"\"\".split()\n",
    "\n",
    "args = parser.parse_args(argv)\n",
    "\n",
    "# only evaluate on test\n",
    "args.flag = 'test'\n",
    "# Disable cudnn if using cuda accelerator.\n",
    "# Please see https://captum.ai/docs/faq#how-can-i-resolve-cudnn-rnn-backward-error-for-rnn-or-lstm-network\n",
    "# args.use_gpu = False\n",
    "initial_setup(args)"
   ]
  },
  {
   "cell_type": "markdown",
   "metadata": {},
   "source": [
    "# Initialize"
   ]
  },
  {
   "cell_type": "markdown",
   "metadata": {},
   "source": [
    "## Experiment"
   ]
  },
  {
   "cell_type": "code",
   "execution_count": 3,
   "metadata": {},
   "outputs": [
    {
     "name": "stdout",
     "output_type": "stream",
     "text": [
      "Use GPU: cuda:0\n",
      "Experiments will be saved in ./results\\traffic_Crossformer\\1\n",
      "test 1731\n",
      "Loading model from ./results\\traffic_Crossformer\\1\\checkpoint.pth\n"
     ]
    }
   ],
   "source": [
    "if args.task_name == 'classification': Exp = Exp_Classification\n",
    "else: Exp = Exp_Long_Term_Forecast\n",
    "exp = Exp(args)  # set experiments\n",
    "\n",
    "# should be test or validation data\n",
    "dataset, dataloader = exp._get_data(args.flag)\n",
    "exp.load_best_model()\n",
    "\n",
    "model = exp.model\n",
    "_ = model.eval()\n",
    "# model.zero_grad()"
   ]
  },
  {
   "cell_type": "code",
   "execution_count": 4,
   "metadata": {},
   "outputs": [
    {
     "name": "stdout",
     "output_type": "stream",
     "text": [
      "Randomly chosen 1672\n"
     ]
    }
   ],
   "source": [
    "example_no = 0\n",
    "if args.data_path == 'mimic_iii.pkl':\n",
    "    first_dead_patient = 0\n",
    "    while True:\n",
    "        if first_dead_patient >= len(dataset): break\n",
    "        if dataset[first_dead_patient][1].item() == 1: break\n",
    "        first_dead_patient += 1\n",
    "        \n",
    "    if first_dead_patient>= len(dataset):\n",
    "        raise Exception(f'No dead patient in {args.flag}')\n",
    "    else:\n",
    "        print(f'First dead patient: {first_dead_patient}')\n",
    "    example_no = first_dead_patient\n",
    "else:\n",
    "    example_no = np.random.randint(0, len(dataset)-1)\n",
    "    print(f'Randomly chosen {example_no}')"
   ]
  },
  {
   "cell_type": "markdown",
   "metadata": {},
   "source": [
    "## Explainer"
   ]
  },
  {
   "cell_type": "code",
   "execution_count": 5,
   "metadata": {},
   "outputs": [],
   "source": [
    "from exp.exp_interpret import Exp_Interpret\n",
    "\n",
    "explainers_map = dict() \n",
    "for name in exp.args.explainers:\n",
    "    explainer = Exp_Interpret.initialize_explainer(\n",
    "        name, exp.model, exp.args, exp.device, dataloader\n",
    "    ) \n",
    "    explainers_map[name] = explainer"
   ]
  },
  {
   "cell_type": "markdown",
   "metadata": {},
   "source": [
    "# Batch Evaluate"
   ]
  },
  {
   "cell_type": "code",
   "execution_count": null,
   "metadata": {},
   "outputs": [],
   "source": [
    "# results = []\n",
    "\n",
    "# result_columns = ['batch_index', 'explainer', 'metric', 'area', 'comp', 'suff']\n",
    "\n",
    "# progress_bar = tqdm(\n",
    "#     enumerate(dataloader), total=len(dataloader), disable=False\n",
    "# )\n",
    "\n",
    "# for batch_index, data in progress_bar:\n",
    "#     # get inputs\n",
    "#     inputs, additional_forward_args, _ = prepare_input(\n",
    "#         data, exp.device, args\n",
    "#     )\n",
    "        \n",
    "#     # baseline must be a scaler or tuple of tensors with same dimension as input\n",
    "#     baselines = get_baseline(inputs, args.baseline_mode)\n",
    "    \n",
    "#     # interpret\n",
    "#     for name in args.explainers:\n",
    "#         explainer = explainers_map[name]\n",
    "        \n",
    "#         # get attributions\n",
    "#         if args.task_name == 'classification':\n",
    "#             attr = compute_attr(\n",
    "#                 inputs, baselines, explainer, \n",
    "#                 additional_forward_args, args\n",
    "#             )\n",
    "#         else:\n",
    "#             attr = compute_attr(\n",
    "#                 inputs, baselines, explainer, \n",
    "#                 additional_forward_args, args\n",
    "#             )\n",
    "    \n",
    "#         # evaluate\n",
    "#         for area in args.areas:\n",
    "#             for metric_name in args.metrics:\n",
    "#                 metric = expl_metric_map[metric_name]\n",
    "#                 error_comp = metric(\n",
    "#                     model, inputs=inputs, \n",
    "#                     attributions=attr, baselines=baselines, \n",
    "#                     additional_forward_args=additional_forward_args,\n",
    "#                     topk=area, mask_largest=True\n",
    "#                 )\n",
    "                \n",
    "#                 error_suff = metric(\n",
    "#                     model, inputs=inputs, \n",
    "#                     attributions=attr, baselines=baselines, \n",
    "#                     additional_forward_args=additional_forward_args,\n",
    "#                     topk=area, mask_largest=False\n",
    "#                 )\n",
    "           \n",
    "#                 result_row = [batch_index, name, metric_name, area, error_comp, error_suff]\n",
    "#                 # print(result_row)\n",
    "#                 results.append(result_row)"
   ]
  },
  {
   "cell_type": "code",
   "execution_count": null,
   "metadata": {},
   "outputs": [],
   "source": [
    "# results_df = pd.DataFrame(results, columns=result_columns)\n",
    "# results_df = results_df.groupby(\n",
    "#     ['explainer', 'metric', 'area']\n",
    "# )[['comp', 'suff']].aggregate('mean').reset_index()\n",
    "\n",
    "# # results_df.round(6).to_csv(os.path.join(result_folder, 'interpretation_results.csv'), index=False)\n",
    "# print(results_df)"
   ]
  },
  {
   "cell_type": "markdown",
   "metadata": {},
   "source": [
    "# Single Evaluate"
   ]
  },
  {
   "cell_type": "markdown",
   "metadata": {},
   "source": [
    "## Input"
   ]
  },
  {
   "cell_type": "code",
   "execution_count": 8,
   "metadata": {},
   "outputs": [],
   "source": [
    "# inputs, additional_forward_args, labels = prepare_input(\n",
    "#     next(iter(dataloader)), exp.device, args\n",
    "# )\n",
    "if args.task_name == 'classification':\n",
    "    inputs, additional_forward_args, labels = prepare_from_dataset(\n",
    "        [dataset[example_no]], exp.device, args\n",
    "    )\n",
    "else: \n",
    "    inputs, additional_forward_args, labels = prepare_from_dataset(\n",
    "        [dataset[example_no]], exp.device, args\n",
    "    )\n",
    "baselines = get_baseline(inputs, args.baseline_mode)"
   ]
  },
  {
   "cell_type": "markdown",
   "metadata": {},
   "source": [
    "## Explainer"
   ]
  },
  {
   "cell_type": "code",
   "execution_count": 37,
   "metadata": {},
   "outputs": [],
   "source": [
    "def wrapper(*args, **kwargs):\n",
    "    outputs = model(*args, **kwargs)\n",
    "    outputs = torch.squeeze(outputs, dim=-1)\n",
    "    return outputs\n",
    "\n",
    "outputs = wrapper(*inputs, *additional_forward_args)"
   ]
  },
  {
   "cell_type": "code",
   "execution_count": 49,
   "metadata": {},
   "outputs": [],
   "source": [
    "# inputs[0].requires_grad = True\n",
    "# inputs[1].requires_grad = True\n",
    "# additional_forward_args[0].requires_grad = True\n",
    "# additional_forward_args[1].requires_grad = True\n",
    "# for a in inputs + additional_forward_args:\n",
    "#     print(a.requires_grad)"
   ]
  },
  {
   "cell_type": "code",
   "execution_count": 57,
   "metadata": {},
   "outputs": [],
   "source": [
    "explainer = IntegratedGradients(wrapper)\n",
    "attr = explainer.attribute(\n",
    "    inputs=inputs, baselines=baselines, target=0,\n",
    "    additional_forward_args=additional_forward_args\n",
    ")"
   ]
  },
  {
   "cell_type": "code",
   "execution_count": 56,
   "metadata": {},
   "outputs": [],
   "source": [
    "# explainer = FeatureAblation(model)\n",
    "# explainer = explainers_map[name]\n",
    "attr_map = dict()\n",
    "\n",
    "for name in exp.args.explainers:\n",
    "    print(name)\n",
    "    explainer = explainers_map[name]\n",
    "    attr = compute_attr(\n",
    "        name, inputs, baselines, explainer, \n",
    "        additional_forward_args, args\n",
    "    )\n",
    "        \n",
    "    if args.task_name == 'classification':\n",
    "        attr_normed = normalize_scale(attr, dim=(2, 3), norm_type='minmax')\n",
    "        attr_numpy = attr.detach().cpu().numpy()\n",
    "        attr_normed = attr_normed.detach().cpu().numpy()\n",
    "    else:\n",
    "        attr_normed = tuple([normalize_scale(a, dim=(2, 3), norm_type='minmax') for a in attr])\n",
    "        attr_numpy = tuple([a.detach().cpu().numpy() for a in attr])\n",
    "        attr_normed = tuple([a.detach().cpu().numpy() for a in attr_normed])\n",
    "\n",
    "    attr_map[name] = (attr, attr_normed)"
   ]
  },
  {
   "cell_type": "markdown",
   "metadata": {},
   "source": [
    "### Visualize"
   ]
  },
  {
   "cell_type": "code",
   "execution_count": 20,
   "metadata": {},
   "outputs": [],
   "source": [
    "sample_no = 0\n",
    "samples = 1\n",
    "target = 1\n",
    "cmap='binary' # binary, RdYlGn, grey, hot"
   ]
  },
  {
   "cell_type": "code",
   "execution_count": 21,
   "metadata": {},
   "outputs": [
    {
     "data": {
      "image/png": "[encoded data removed]",
      "text/plain": [
       "<Figure size 504x396 with 2 Axes>"
      ]
     },
     "metadata": {
      "needs_background": "light"
     },
     "output_type": "display_data"
    }
   ],
   "source": [
    "fig, axes = plt.subplots(1, samples, figsize =(min(18, 7*samples), 5.5))\n",
    "\n",
    "if samples ==1:\n",
    "    if target is None:\n",
    "        psm = axes.pcolormesh(\n",
    "            attr_normed[0].mean(axis=0).T, cmap=cmap, # rasterized=True, # vmin=0, vmax=1\n",
    "        )\n",
    "    else:\n",
    "        psm = axes.pcolormesh(\n",
    "            attr_normed[0, target].T, cmap=cmap, # rasterized=True, # vmin=0, vmax=1\n",
    "        )\n",
    "        \n",
    "    fig.colorbar(psm, ax=axes)\n",
    "    axes.set_xlabel('Time')\n",
    "    axes.set_ylabel('Feature')\n",
    "    axes.title.set_text(f'Label {labels[0].item()}')\n",
    "else:\n",
    "    for sample_no in range(samples):\n",
    "        if target is None:\n",
    "            psm = axes[sample_no].pcolormesh(\n",
    "                attr_normed[sample_no].mean(axis=0).T, cmap=cmap, # rasterized=True, # vmin=0, vmax=1\n",
    "            )\n",
    "        else:\n",
    "            psm = axes[sample_no].pcolormesh(\n",
    "                attr_normed[sample_no, target].T, cmap=cmap, # rasterized=True, # vmin=0, vmax=1\n",
    "            )\n",
    "        fig.colorbar(psm, ax=axes[sample_no])\n",
    "        axes[sample_no].set_xlabel('Time')\n",
    "        axes[sample_no].set_ylabel('Feature')\n",
    "        axes[sample_no].title.set_text(f'Sample {sample_no+1}, Label {labels[sample_no].item()}')\n",
    "\n",
    "fig.tight_layout()\n",
    "plt.show()"
   ]
  },
  {
   "cell_type": "markdown",
   "metadata": {},
   "source": [
    "### Evaluate"
   ]
  },
  {
   "cell_type": "code",
   "execution_count": null,
   "metadata": {},
   "outputs": [],
   "source": [
    "for area in args.areas:\n",
    "    for metric_name in args.metrics:\n",
    "        metric = expl_metric_map[metric_name]\n",
    "        error_comp = metric(\n",
    "            model, inputs=inputs, \n",
    "            attributions=attr[:, target], baselines=baselines, \n",
    "            additional_forward_args=additional_forward_args,\n",
    "            topk=area, mask_largest=True\n",
    "        )\n",
    "        \n",
    "        error_suff = metric(\n",
    "            model, inputs=inputs, \n",
    "            attributions=attr[:, target], baselines=baselines, \n",
    "            additional_forward_args=additional_forward_args,\n",
    "            topk=area, mask_largest=False\n",
    "        )\n",
    "        print(f'{area}, {metric_name}, {error_comp:.3g}, {error_suff:.3g}')"
   ]
  },
  {
   "cell_type": "markdown",
   "metadata": {},
   "source": [
    "# Visualization"
   ]
  },
  {
   "cell_type": "code",
   "execution_count": null,
   "metadata": {},
   "outputs": [],
   "source": [
    "sample_no = 0\n",
    "target = 1\n",
    "cmap='binary' # binary, RdYlGn, grey, hot"
   ]
  },
  {
   "cell_type": "markdown",
   "metadata": {},
   "source": [
    "## Single feature"
   ]
  },
  {
   "cell_type": "code",
   "execution_count": null,
   "metadata": {},
   "outputs": [],
   "source": [
    "# fig, axes = plt.subplots(1, 2, figsize=(15, 6))\n",
    "# feature_no = 0\n",
    "\n",
    "# if type(attr_normed) == tuple:\n",
    "#     attr_normed = attr_normed[0]\n",
    "    \n",
    "# axes[0].plot(attr_normed[sample_no, target, :, feature_no], label='FA')\n",
    "# axes[0].legend()\n",
    "# axes[0].set_xlabel('Time')\n",
    "# axes[0].set_ylabel('Feature importance')\n",
    "\n",
    "# axes[1].plot(tsr_attr_normed[sample_no, target, :, feature_no], label='WTSR + FA')\n",
    "# axes[1].legend()\n",
    "# axes[1].set_xlabel('Time')\n",
    "    \n",
    "# fig.tight_layout()\n",
    "# # plt.savefig('results/single_example.jpg', dpi=200)\n",
    "# plt.show()"
   ]
  },
  {
   "cell_type": "markdown",
   "metadata": {},
   "source": [
    "## All features"
   ]
  },
  {
   "cell_type": "code",
   "execution_count": null,
   "metadata": {},
   "outputs": [],
   "source": [
    "n = len(args.explainers)\n",
    "rows, columns = 1, n\n",
    "width_ratios=  [1] * (n-1) + [1.1]\n",
    "\n",
    "if args.data_path == 'mimic_iii.pkl':\n",
    "    fig, axes = plt.subplots(rows, columns, figsize =(36, 4), width_ratios=width_ratios)\n",
    "else:\n",
    "    fig, axes = plt.subplots(rows, columns, figsize =(32, 4))\n",
    "\n",
    "for row in range(rows):\n",
    "    for col in range(columns):\n",
    "        feature_no = row * 2 + col\n",
    "        name = args.explainers[feature_no]\n",
    "        attr_normed = attr_map[name][1]\n",
    "        if type(attr_normed) == tuple:\n",
    "            # concatenate across feature dimension\n",
    "            # attr_normed = np.concatenate(attr_normed, axis=-1)\n",
    "            \n",
    "            # only use the encoder features\n",
    "            attr_normed = attr_normed[0]\n",
    "            \n",
    "        # attr_normed = np.mean(attr_normed, axis=1)\n",
    "        if rows == 1: ax = axes[col]\n",
    "        else: ax = axes[row][col]\n",
    "            \n",
    "        # if only one feature\n",
    "        if attr_normed.shape[-1] == 1:\n",
    "            if target is None:\n",
    "                ax.plot(attr_normed[sample_no].mean(axis=0).T[0])\n",
    "            else:    \n",
    "                ax.plot(attr_normed[sample_no, target].T[0])\n",
    "        else:\n",
    "            if target is None:\n",
    "                psm = ax.pcolormesh(\n",
    "                    attr_normed[sample_no].mean(axis=0).T, \n",
    "                    cmap=cmap, vmax=1 # rasterized=True\n",
    "                )\n",
    "            else:\n",
    "                psm = ax.pcolormesh(\n",
    "                    attr_normed[sample_no, target].T, \n",
    "                    cmap=cmap, vmax=1 # rasterized=True\n",
    "                )\n",
    "            # colorbar at the rightmost column\n",
    "            if col + 1 == columns:\n",
    "                fig.colorbar(psm, ax=ax)\n",
    "        \n",
    "        \n",
    "        # make the axes more visible\n",
    "        plt.setp(ax.spines.values(), linewidth=2) \n",
    "        if col > 0:\n",
    "            ax.get_yaxis().set_visible(False)   \n",
    "        \n",
    "        # im = axes[0].imshow(attr_normed[example_no, target].T, cmap='binary', interpolation='nearest')\n",
    "        # axes[0].figure.colorbar(im, fraction=0.03, pad=0.04)\n",
    "        # name = explainer_name_map[]\n",
    "        if name == 'winIT': name = 'WinIT'\n",
    "        else:\n",
    "            name = explainer_name_map[name].get_name()\n",
    "        ax.set_title(name)\n",
    "        if args.data_path == 'mimic_iii.pkl':\n",
    "            ax.xaxis.set_major_locator(MultipleLocator(base=24))\n",
    "            ax.yaxis.set_major_locator(MultipleLocator(base=10))\n",
    "        else:\n",
    "            ax.xaxis.set_major_locator(MultipleLocator(base=24))\n",
    "        # ax.set_ylabel('Feature')\n",
    "\n",
    "fig.tight_layout()\n",
    "fig.supylabel('Feature', fontsize=36, x=-.015)\n",
    "fig.supxlabel('Time', fontsize=36, y=-0.12)\n",
    "# plt.suptitle('Heat map of feature importance scores')\n",
    "plt.savefig(f'{exp.output_folder}/heatmap.jpg', dpi=200, bbox_inches=\"tight\")\n",
    "plt.show()"
   ]
  },
  {
   "cell_type": "markdown",
   "metadata": {},
   "source": [
    "# WIP"
   ]
  },
  {
   "cell_type": "markdown",
   "metadata": {},
   "source": [
    "## Density plot"
   ]
  },
  {
   "cell_type": "code",
   "execution_count": null,
   "metadata": {},
   "outputs": [],
   "source": [
    "# import scipy.stats as st\n",
    "# fig, axes = plt.subplots(1, 2, figsize=(16, 6))\n",
    "# n_bins = 128\n",
    "\n",
    "# dist1 = attr_normed[:, target, :, feature_no].flatten()\n",
    "# dist2 = tsr_attr_normed[:, target, :, feature_no].flatten()\n",
    "\n",
    "# _ = axes[0].hist(dist1, bins=n_bins, density=True)\n",
    "# # We can set the number of bins with the *bins* keyword argument.\n",
    "# kde = st.gaussian_kde(dist1)\n",
    "# mn, mx = axes[0].get_xlim()\n",
    "# kde_xs = np.linspace(mn, mx, 100)\n",
    "# axes[0].plot(kde_xs, kde.pdf(kde_xs), label=\"PDF\", color='black')\n",
    "# axes[0].set_ylabel('Count')\n",
    "# axes[0].set_xlabel(f'{explainer.get_name()}')\n",
    "# axes[0].set_xlim(-0.1, 1)\n",
    "\n",
    "# _ = axes[1].hist(dist2, bins=n_bins, density=True)\n",
    "# axes[1].set_xlabel(f'WTSR + {explainer.get_name()}')\n",
    "# kde = st.gaussian_kde(dist2)\n",
    "# mn, mx = axes[1].get_xlim()\n",
    "# kde_xs = np.linspace(mn, mx, 100)\n",
    "# axes[1].plot(kde_xs, kde.pdf(kde_xs), label=\"PDF\", color='black')\n",
    "# axes[1].set_xlim(-0.1, 1)\n",
    "# # plt.suptitle('Histogram and density plot of feature importance scores')\n",
    "# fig.tight_layout()\n",
    "# # plt.savefig('results/density.jpg', dpi=200)"
   ]
  },
  {
   "cell_type": "markdown",
   "metadata": {},
   "source": [
    "## WinTSR"
   ]
  },
  {
   "cell_type": "code",
   "execution_count": null,
   "metadata": {},
   "outputs": [],
   "source": [
    "from attrs.winTSR import WinTSR\n",
    "explainer = WinTSR(model, args)"
   ]
  },
  {
   "cell_type": "code",
   "execution_count": null,
   "metadata": {},
   "outputs": [],
   "source": [
    "attr = explainer.attribute(\n",
    "    inputs, baselines, \n",
    "    additional_forward_args, \n",
    "    attributions_fn=abs\n",
    ")"
   ]
  },
  {
   "cell_type": "markdown",
   "metadata": {},
   "source": [
    "## Visualize"
   ]
  },
  {
   "cell_type": "code",
   "execution_count": null,
   "metadata": {},
   "outputs": [],
   "source": [
    "fig, axes = plt.subplots(1, 2, figsize =(16, 5))\n",
    "\n",
    "psm = axes[0].pcolormesh(\n",
    "    attr_normed[example_no, target].T, \n",
    "    cmap=cmap, # rasterized=True, # vmin=0, vmax=1\n",
    ")\n",
    "fig.colorbar(psm, ax=axes[0])\n",
    "# im = axes[0].imshow(attr_normed[example_no, target].T, cmap='binary', interpolation='nearest')\n",
    "# axes[0].figure.colorbar(im, fraction=0.03, pad=0.04)\n",
    "axes[0].set_xlabel('Time')\n",
    "axes[0].set_ylabel('Feature')\n",
    "\n",
    "\n",
    "psm = axes[1].pcolormesh(\n",
    "    attr[example_no, target].T, \n",
    "    cmap=cmap, # rasterized=True, # vmin=0, vmax=1\n",
    ")\n",
    "fig.colorbar(psm, ax=axes[1])\n",
    "axes[1].set_xlabel('Time')\n",
    "\n",
    "fig.tight_layout()\n",
    "# plt.suptitle('Heat map of feature importance scores')\n",
    "# plt.savefig('results/heatmap.jpg', dpi=200)\n",
    "plt.show()"
   ]
  },
  {
   "cell_type": "markdown",
   "metadata": {},
   "source": [
    "## Evaluate"
   ]
  },
  {
   "cell_type": "code",
   "execution_count": null,
   "metadata": {},
   "outputs": [],
   "source": [
    "for area in args.areas:\n",
    "    for metric_name in args.metrics:\n",
    "        metric = expl_metric_map[metric_name]\n",
    "        error_comp = metric(\n",
    "            model, inputs=inputs, \n",
    "            attributions=avg_wtsr_attr, baselines=baselines, \n",
    "            additional_forward_args=additional_forward_args,\n",
    "            topk=area, mask_largest=True\n",
    "        )\n",
    "        \n",
    "        error_suff = metric(\n",
    "            model, inputs=inputs, \n",
    "            attributions=avg_wtsr_attr, baselines=baselines, \n",
    "            additional_forward_args=additional_forward_args,\n",
    "            topk=area, mask_largest=False\n",
    "        )\n",
    "        print(f'{area}, {metric_name}, {error_comp:.3g}, {error_suff:.3g}')"
   ]
  }
 ],
 "metadata": {
  "kernelspec": {
   "display_name": "Python 3",
   "language": "python",
   "name": "python3"
  },
  "language_info": {
   "codemirror_mode": {
    "name": "ipython",
    "version": 3
   },
   "file_extension": ".py",
   "mimetype": "text/x-python",
   "name": "python",
   "nbconvert_exporter": "python",
   "pygments_lexer": "ipython3",
   "version": "3.10.11"
  },
  "orig_nbformat": 4
 },
 "nbformat": 4,
 "nbformat_minor": 2
}
