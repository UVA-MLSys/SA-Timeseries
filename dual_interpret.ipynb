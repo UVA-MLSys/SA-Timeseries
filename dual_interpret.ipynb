{
 "cells": [
  {
   "cell_type": "markdown",
   "metadata": {},
   "source": [
    "# Import"
   ]
  },
  {
   "cell_type": "code",
   "execution_count": 1,
   "metadata": {},
   "outputs": [],
   "source": [
    "from interpret import *\n",
    "from tint.metrics import mse, mae\n",
    "import tint, captum\n",
    "from tqdm import tqdm\n",
    "import pandas as pd\n",
    "from utils.explainer import *\n",
    "from exp.exp_interpret import *\n",
    "import gc\n",
    "\n",
    "import matplotlib.pyplot as plt\n",
    "from exp.plot_config import *\n",
    "%matplotlib inline"
   ]
  },
  {
   "cell_type": "markdown",
   "metadata": {},
   "source": [
    "# Util"
   ]
  },
  {
   "cell_type": "code",
   "execution_count": 9,
   "metadata": {},
   "outputs": [],
   "source": [
    "from data.uea import collate_fn\n",
    "\n",
    "def normalize_feature(attr, axis=(2, 3)):\n",
    "    temp = abs(attr)\n",
    "    temp -= np.min(temp, axis=axis, keepdims=True)\n",
    "    maximum = np.max(temp, axis=axis, keepdims=True)\n",
    "    return temp / maximum\n",
    "\n",
    "def prepare_input(\n",
    "    data, device, args\n",
    "):\n",
    "    if args.task_name == 'classification':\n",
    "        batch_x, batch_y, padding_mask = data\n",
    "        batch_x = batch_x.float().to(device)\n",
    "        batch_y= batch_y.float().to(device)\n",
    "        padding_mask = padding_mask.float().to(device)\n",
    "        \n",
    "        inputs = batch_x\n",
    "        additional_forward_args = (padding_mask, None, None)\n",
    "    else:\n",
    "        batch_x, batch_y, batch_x_mark, batch_y_mark = data\n",
    "        batch_x = batch_x.float().to(device)\n",
    "        batch_y = batch_y.float().to(device)\n",
    "\n",
    "        batch_x_mark = batch_x_mark.float().to(device)\n",
    "        batch_y_mark = batch_y_mark.float().to(device)\n",
    "        # decoder input\n",
    "        dec_inp = torch.zeros_like(batch_y[:, -args.pred_len:, :]).float()\n",
    "        dec_inp = torch.cat([batch_y[:, :args.label_len, :], dec_inp], dim=1).float()\n",
    "        \n",
    "        inputs = (batch_x, batch_x_mark)\n",
    "        additional_forward_args = (dec_inp, batch_y_mark)\n",
    "    \n",
    "    return (inputs, additional_forward_args, batch_y)\n",
    "\n",
    "def prepare_from_dataset(data, device, args):\n",
    "    if args.task_name == 'classification':\n",
    "        batch_x, batch_y, padding_mask = collate_fn(data)\n",
    "        batch_x = batch_x.float().to(device)\n",
    "        batch_y= batch_y.float().to(device)\n",
    "        padding_mask = padding_mask.float().to(device)\n",
    "        \n",
    "        inputs = batch_x\n",
    "        additional_forward_args = (padding_mask, None, None)\n",
    "    else:\n",
    "        batch_x, batch_y, batch_x_mark, batch_y_mark = data\n",
    "        batch_x = batch_x.float().to(device)\n",
    "        batch_y = batch_y.float().to(device)\n",
    "\n",
    "        batch_x_mark = batch_x_mark.float().to(device)\n",
    "        batch_y_mark = batch_y_mark.float().to(device)\n",
    "        # decoder input\n",
    "        dec_inp = torch.zeros_like(batch_y[:, -args.pred_len:, :]).float()\n",
    "        dec_inp = torch.cat([batch_y[:, :args.label_len, :], dec_inp], dim=1).float()\n",
    "        \n",
    "        inputs = (batch_x, batch_x_mark)\n",
    "        additional_forward_args = (dec_inp, batch_y_mark)\n",
    "    \n",
    "    return (inputs, additional_forward_args, batch_y)"
   ]
  },
  {
   "cell_type": "markdown",
   "metadata": {},
   "source": [
    "# Arguments"
   ]
  },
  {
   "cell_type": "code",
   "execution_count": 3,
   "metadata": {},
   "outputs": [],
   "source": [
    "parser = get_parser()\n",
    "argv = \"\"\"\n",
    "  --explainers feature_ablation \\\n",
    "  --task_name classification \\\n",
    "  --data mimic \\\n",
    "  --root_path ./dataset/mimic_iii/ \\\n",
    "  --data_path mimic_iii.pkl \\\n",
    "  --use_gpu \\\n",
    "  --metrics auc 'accuracy' 'cross_entropy' \\\n",
    "  --model LSTM\n",
    "  --metrics auc accuracy cross_entropy\n",
    "\"\"\".split()\n",
    "args = parser.parse_args(argv)\n",
    "\n",
    "# only evaluate on test\n",
    "args.flag = 'test'\n",
    "# Disable cudnn if using cuda accelerator.\n",
    "# Please see https://captum.ai/docs/faq#how-can-i-resolve-cudnn-rnn-backward-error-for-rnn-or-lstm-network\n",
    "# args.use_gpu = False\n",
    "initial_setup(args)"
   ]
  },
  {
   "cell_type": "markdown",
   "metadata": {},
   "source": [
    "# Initialize"
   ]
  },
  {
   "cell_type": "markdown",
   "metadata": {},
   "source": [
    "## Experiment"
   ]
  },
  {
   "cell_type": "code",
   "execution_count": 4,
   "metadata": {},
   "outputs": [
    {
     "name": "stdout",
     "output_type": "stream",
     "text": [
      "Use GPU: cuda:0\n",
      "train 18390\n",
      "test 2299\n",
      "Experiments will be saved in ./results\\mimic_iii_LSTM\n",
      "test 2299\n",
      "Loading model from ./results\\mimic_iii_LSTM\\checkpoint.pth\n"
     ]
    }
   ],
   "source": [
    "\"Only long_term_forecast is supported for now\"\n",
    "\n",
    "if args.task_name == 'classification': Exp = Exp_Classification\n",
    "else: Exp = Exp_Long_Term_Forecast\n",
    "exp = Exp(args)  # set experiments\n",
    "\n",
    "# should be test or validation data\n",
    "dataset, dataloader = exp._get_data(args.flag)\n",
    "exp.load_best_model()\n",
    "\n",
    "model = exp.model\n",
    "_ = model.eval()\n",
    "# model.zero_grad()"
   ]
  },
  {
   "cell_type": "code",
   "execution_count": 5,
   "metadata": {},
   "outputs": [
    {
     "name": "stdout",
     "output_type": "stream",
     "text": [
      "First dead patient: 16\n"
     ]
    }
   ],
   "source": [
    "first_dead_patient = 0\n",
    "while True:\n",
    "    if first_dead_patient >= len(dataset): break\n",
    "    if dataset[first_dead_patient][1].item() == 1: break\n",
    "    first_dead_patient += 1\n",
    "    \n",
    "if first_dead_patient>= len(dataset):\n",
    "    raise Exception(f'No dead patient in {args.flag}')\n",
    "else:\n",
    "    print(f'First dead patient: {first_dead_patient}')"
   ]
  },
  {
   "cell_type": "markdown",
   "metadata": {},
   "source": [
    "## Explainer"
   ]
  },
  {
   "cell_type": "code",
   "execution_count": 6,
   "metadata": {},
   "outputs": [],
   "source": [
    "explainers_map = dict()\n",
    "for name in args.explainers:\n",
    "    if name == 'augmented_occlusion':\n",
    "        inputs = get_total_data(\n",
    "            dataloader, device=exp.device, \n",
    "            add_x_mark=args.task_name!='classification'\n",
    "        )\n",
    "        explainers_map[name] = explainer_name_map[name](model, inputs)\n",
    "    else:    \n",
    "        explainers_map[name] = explainer_name_map[name](model)"
   ]
  },
  {
   "cell_type": "markdown",
   "metadata": {},
   "source": [
    "# Batch Evaluate"
   ]
  },
  {
   "cell_type": "code",
   "execution_count": 7,
   "metadata": {},
   "outputs": [
    {
     "name": "stderr",
     "output_type": "stream",
     "text": [
      "  0%|          | 0/72 [00:02<?, ?it/s]\n"
     ]
    }
   ],
   "source": [
    "# results = []\n",
    "\n",
    "# result_columns = ['batch_index', 'explainer', 'metric', 'area', 'comp', 'suff']\n",
    "\n",
    "# progress_bar = tqdm(\n",
    "#     enumerate(dataloader), total=len(dataloader), disable=False\n",
    "# )\n",
    "\n",
    "# for batch_index, data in progress_bar:\n",
    "#     # get inputs\n",
    "#     inputs, additional_forward_args, _ = prepare_input(\n",
    "#         data, exp.device, args\n",
    "#     )\n",
    "        \n",
    "#     # baseline must be a scaler or tuple of tensors with same dimension as input\n",
    "#     baselines = get_baseline(inputs, args.baseline_mode)\n",
    "    \n",
    "#     # interpret\n",
    "#     for name in args.explainers:\n",
    "#         explainer = explainers_map[name]\n",
    "        \n",
    "#         # get attributions\n",
    "#         if args.task_name == 'classification':\n",
    "#             attr = compute_attr(\n",
    "#                 inputs, baselines, explainer, \n",
    "#                 additional_forward_args, args\n",
    "#             )\n",
    "#         else:\n",
    "#             attr = compute_attr(\n",
    "#                 inputs, baselines, explainer, \n",
    "#                 additional_forward_args, args\n",
    "#             )\n",
    "    \n",
    "#         # evaluate\n",
    "#         for area in args.areas:\n",
    "#             for metric_name in args.metrics:\n",
    "#                 metric = expl_metric_map[metric_name]\n",
    "#                 error_comp = metric(\n",
    "#                     model, inputs=inputs, \n",
    "#                     attributions=attr, baselines=baselines, \n",
    "#                     additional_forward_args=additional_forward_args,\n",
    "#                     topk=area, mask_largest=True\n",
    "#                 )\n",
    "                \n",
    "#                 error_suff = metric(\n",
    "#                     model, inputs=inputs, \n",
    "#                     attributions=attr, baselines=baselines, \n",
    "#                     additional_forward_args=additional_forward_args,\n",
    "#                     topk=area, mask_largest=False\n",
    "#                 )\n",
    "           \n",
    "#                 result_row = [batch_index, name, metric_name, area, error_comp, error_suff]\n",
    "#                 # print(result_row)\n",
    "#                 results.append(result_row)"
   ]
  },
  {
   "cell_type": "code",
   "execution_count": 11,
   "metadata": {},
   "outputs": [
    {
     "name": "stdout",
     "output_type": "stream",
     "text": [
      "             explainer metric   area      comp      suff\n",
      "0  augmented_occlusion    mae  0.050  1.958788  2.541534\n",
      "1  augmented_occlusion    mae  0.075  2.016956  2.507190\n",
      "2  augmented_occlusion    mae  0.100  2.056727  2.481046\n",
      "3  augmented_occlusion    mae  0.150  2.129088  2.416619\n",
      "4  augmented_occlusion    mse  0.050  3.293420  4.954218\n",
      "5  augmented_occlusion    mse  0.075  3.444607  4.833335\n",
      "6  augmented_occlusion    mse  0.100  3.560951  4.731161\n",
      "7  augmented_occlusion    mse  0.150  3.742491  4.492202\n"
     ]
    }
   ],
   "source": [
    "# results_df = pd.DataFrame(results, columns=result_columns)\n",
    "# results_df = results_df.groupby(\n",
    "#     ['explainer', 'metric', 'area']\n",
    "# )[['comp', 'suff']].aggregate('mean').reset_index()\n",
    "\n",
    "# # results_df.round(6).to_csv(os.path.join(result_folder, 'interpretation_results.csv'), index=False)\n",
    "# print(results_df)"
   ]
  },
  {
   "cell_type": "markdown",
   "metadata": {},
   "source": [
    "# Single Evaluate"
   ]
  },
  {
   "cell_type": "markdown",
   "metadata": {},
   "source": [
    "## Input"
   ]
  },
  {
   "cell_type": "code",
   "execution_count": 10,
   "metadata": {},
   "outputs": [],
   "source": [
    "# inputs, additional_forward_args, labels = prepare_input(\n",
    "#     next(iter(dataloader)), exp.device, args\n",
    "# )\n",
    "inputs, additional_forward_args, labels = prepare_from_dataset(\n",
    "    [dataset[first_dead_patient]], exp.device, args\n",
    ")\n",
    "baselines = get_baseline(inputs, args.baseline_mode)"
   ]
  },
  {
   "cell_type": "markdown",
   "metadata": {},
   "source": [
    "## Explainer"
   ]
  },
  {
   "cell_type": "code",
   "execution_count": 11,
   "metadata": {},
   "outputs": [],
   "source": [
    "explainer = FeatureAblation(model)\n",
    "\n",
    "if args.task_name == 'classification':\n",
    "    attr = compute_attr(\n",
    "        inputs, baselines, explainer, \n",
    "        additional_forward_args, args,\n",
    "        avg_attr=False\n",
    "    )\n",
    "    \n",
    "    attr_numpy = attr.detach().cpu().numpy()\n",
    "    attr_normed = normalize_feature(attr_numpy)\n",
    "else:\n",
    "    attr = compute_attr(\n",
    "        inputs, baselines, explainer, \n",
    "        additional_forward_args, args,\n",
    "        avg_attr=False\n",
    "    )\n",
    "    attr_numpy = tuple([a.detach().cpu().numpy() for a in attr])\n",
    "    attr_normed = normalize_feature(attr_numpy)"
   ]
  },
  {
   "cell_type": "code",
   "execution_count": 12,
   "metadata": {},
   "outputs": [],
   "source": [
    "if len(attr.shape) == 4:\n",
    "    attr_avg = torch.mean(attr, dim=1) # take mean across target dimension\n",
    "else:\n",
    "    attr_avg = attr"
   ]
  },
  {
   "cell_type": "markdown",
   "metadata": {},
   "source": [
    "### Visualize"
   ]
  },
  {
   "cell_type": "code",
   "execution_count": 14,
   "metadata": {},
   "outputs": [
    {
     "data": {
      "image/png": "[encoded data removed]",
      "text/plain": [
       "<Figure size 648x432 with 2 Axes>"
      ]
     },
     "metadata": {
      "needs_background": "light"
     },
     "output_type": "display_data"
    }
   ],
   "source": [
    "target = 1\n",
    "samples = 1\n",
    "cmap = 'binary' # binary, RdYlGn, grey, hot\n",
    "fig, axes = plt.subplots(1, samples, figsize =(min(18, 9*samples), 6))\n",
    "\n",
    "if samples ==1:\n",
    "    psm = axes.pcolormesh(\n",
    "        attr_normed[0, target].T, \n",
    "        cmap=cmap, # rasterized=True, # vmin=0, vmax=1\n",
    "    )\n",
    "    fig.colorbar(psm, ax=axes)\n",
    "    axes.set_xlabel('Time')\n",
    "    axes.set_ylabel('Feature')\n",
    "    axes.title.set_text(f'Label {labels[0].item()}')\n",
    "else:\n",
    "    for sample_no in range(samples):\n",
    "        psm = axes[sample_no].pcolormesh(\n",
    "            attr_normed[sample_no, target].T, \n",
    "            cmap=cmap, # rasterized=True, # vmin=0, vmax=1\n",
    "        )\n",
    "        fig.colorbar(psm, ax=axes[sample_no])\n",
    "        axes[sample_no].set_xlabel('Time')\n",
    "        axes[sample_no].set_ylabel('Feature')\n",
    "        axes[sample_no].title.set_text(f'Sample {sample_no+1}, Label {labels[sample_no].item()}')\n",
    "\n",
    "fig.tight_layout()\n",
    "plt.show()"
   ]
  },
  {
   "cell_type": "markdown",
   "metadata": {},
   "source": [
    "### Evaluate"
   ]
  },
  {
   "cell_type": "code",
   "execution_count": 15,
   "metadata": {},
   "outputs": [
    {
     "name": "stdout",
     "output_type": "stream",
     "text": [
      "0.05, auc, 0, 0\n",
      "0.05, accuracy, 1, 1\n",
      "0.05, cross_entropy, 0.0204, 0.037\n",
      "0.075, auc, 0, 0\n",
      "0.075, accuracy, 1, 1\n",
      "0.075, cross_entropy, 0.0208, 0.0199\n",
      "0.1, auc, 0, 0\n",
      "0.1, accuracy, 1, 1\n",
      "0.1, cross_entropy, 0.0117, 0.0224\n",
      "0.15, auc, 0, 0\n",
      "0.15, accuracy, 1, 1\n",
      "0.15, cross_entropy, 0.00743, 0.0197\n"
     ]
    }
   ],
   "source": [
    "for area in args.areas:\n",
    "    for metric_name in args.metrics:\n",
    "        metric = expl_metric_map[metric_name]\n",
    "        error_comp = metric(\n",
    "            model, inputs=inputs, \n",
    "            attributions=attr_avg, baselines=baselines, \n",
    "            additional_forward_args=additional_forward_args,\n",
    "            topk=area, mask_largest=True\n",
    "        )\n",
    "        \n",
    "        error_suff = metric(\n",
    "            model, inputs=inputs, \n",
    "            attributions=attr_avg, baselines=baselines, \n",
    "            additional_forward_args=additional_forward_args,\n",
    "            topk=area, mask_largest=False\n",
    "        )\n",
    "        print(f'{area}, {metric_name}, {error_comp:.3g}, {error_suff:.3g}')"
   ]
  },
  {
   "cell_type": "markdown",
   "metadata": {},
   "source": [
    "## WTSR"
   ]
  },
  {
   "cell_type": "code",
   "execution_count": 16,
   "metadata": {},
   "outputs": [],
   "source": [
    "tsr_explainer = WTSR(FeatureAblation(model))"
   ]
  },
  {
   "cell_type": "code",
   "execution_count": 17,
   "metadata": {},
   "outputs": [],
   "source": [
    "if args.task_name == 'classification':\n",
    "    tsr_attr = compute_tsr_attr(\n",
    "        args, tsr_explainer, inputs=inputs, \n",
    "        sliding_window_shapes=(1,1), \n",
    "        strides=1, baselines=baselines,\n",
    "        additional_forward_args=additional_forward_args,\n",
    "        avg_attr=False\n",
    "    )\n",
    "\n",
    "    tsr_attr_numpy = tsr_attr.detach().cpu().numpy()\n",
    "    tsr_attr_normed  = normalize_feature(tsr_attr_numpy)\n",
    "else:\n",
    "    tsr_attr = compute_tsr_attr(\n",
    "        args, tsr_explainer, inputs=inputs, \n",
    "        sliding_window_shapes=(1,1), \n",
    "        strides=1, baselines=baselines,\n",
    "        additional_forward_args=additional_forward_args,\n",
    "        avg_attr=False\n",
    "    )\n",
    "    tsr_attr_numpy = tuple([a.detach().cpu().numpy() for a in tsr_attr])\n",
    "    tsr_attr_normed = normalize_feature(tsr_attr_numpy)"
   ]
  },
  {
   "cell_type": "code",
   "execution_count": 18,
   "metadata": {},
   "outputs": [],
   "source": [
    "if len(tsr_attr.shape) == 4:\n",
    "    tsr_attr_avg = torch.mean(tsr_attr, dim=1) # take mean across target dimension\n",
    "else:\n",
    "    tsr_attr_avg = tsr_attr"
   ]
  },
  {
   "cell_type": "markdown",
   "metadata": {},
   "source": [
    "### Evaluate"
   ]
  },
  {
   "cell_type": "code",
   "execution_count": 19,
   "metadata": {},
   "outputs": [
    {
     "name": "stdout",
     "output_type": "stream",
     "text": [
      "0.05, auc, 0, 0\n",
      "0.05, accuracy, 1, 1\n",
      "0.05, cross_entropy, 0.0245, 0.0249\n",
      "0.075, auc, 0, 0\n",
      "0.075, accuracy, 1, 1\n",
      "0.075, cross_entropy, 0.0182, 0.0153\n",
      "0.1, auc, 0, 0\n",
      "0.1, accuracy, 1, 1\n",
      "0.1, cross_entropy, 0.0112, 0.0175\n",
      "0.15, auc, 0, 0\n",
      "0.15, accuracy, 1, 1\n",
      "0.15, cross_entropy, 0.00577, 0.0252\n"
     ]
    }
   ],
   "source": [
    "for area in args.areas:\n",
    "    for metric_name in args.metrics:\n",
    "        metric = expl_metric_map[metric_name]\n",
    "        error_comp = metric(\n",
    "            model, inputs=inputs, \n",
    "            attributions=tsr_attr_avg, baselines=baselines, \n",
    "            additional_forward_args=additional_forward_args,\n",
    "            topk=area, mask_largest=True\n",
    "        )\n",
    "        \n",
    "        error_suff = metric(\n",
    "            model, inputs=inputs, \n",
    "            attributions=tsr_attr_avg, baselines=baselines, \n",
    "            additional_forward_args=additional_forward_args,\n",
    "            topk=area, mask_largest=False\n",
    "        )\n",
    "        print(f'{area}, {metric_name}, {error_comp:.3g}, {error_suff:.3g}')"
   ]
  },
  {
   "cell_type": "markdown",
   "metadata": {},
   "source": [
    "# Visualization"
   ]
  },
  {
   "cell_type": "code",
   "execution_count": 24,
   "metadata": {},
   "outputs": [],
   "source": [
    "example_no = 0\n",
    "target = 1\n",
    "cmap='binary'"
   ]
  },
  {
   "cell_type": "markdown",
   "metadata": {},
   "source": [
    "## Single feature"
   ]
  },
  {
   "cell_type": "code",
   "execution_count": 27,
   "metadata": {},
   "outputs": [
    {
     "data": {
      "image/png": "[encoded data removed]",
      "text/plain": [
       "<Figure size 1080x432 with 2 Axes>"
      ]
     },
     "metadata": {
      "needs_background": "light"
     },
     "output_type": "display_data"
    }
   ],
   "source": [
    "fig, axes = plt.subplots(1, 2, figsize=(15, 6))\n",
    "feature_no = 1\n",
    "\n",
    "axes[0].plot(attr_normed[example_no, target, :, feature_no], label='FA')\n",
    "axes[0].legend()\n",
    "axes[0].set_xlabel('Time')\n",
    "axes[0].set_ylabel('Feature importance')\n",
    "\n",
    "axes[1].plot(tsr_attr_normed[example_no, target, :, feature_no], label='WTSR + FA')\n",
    "axes[1].legend()\n",
    "axes[1].set_xlabel('Time')\n",
    "    \n",
    "fig.tight_layout()\n",
    "# plt.savefig('results/single_example.jpg', dpi=200)\n",
    "plt.show()"
   ]
  },
  {
   "cell_type": "markdown",
   "metadata": {},
   "source": [
    "## All features"
   ]
  },
  {
   "cell_type": "code",
   "execution_count": 31,
   "metadata": {},
   "outputs": [
    {
     "data": {
      "image/png": "[encoded data removed]",
      "text/plain": [
       "<Figure size 1152x360 with 4 Axes>"
      ]
     },
     "metadata": {
      "needs_background": "light"
     },
     "output_type": "display_data"
    }
   ],
   "source": [
    "fig, axes = plt.subplots(1, 2, figsize =(16, 5))\n",
    "\n",
    "psm = axes[0].pcolormesh(\n",
    "    attr_normed[example_no, target].T, \n",
    "    cmap=cmap, # rasterized=True, # vmin=0, vmax=1\n",
    ")\n",
    "fig.colorbar(psm, ax=axes[0])\n",
    "# im = axes[0].imshow(attr_normed[example_no, target].T, cmap='binary', interpolation='nearest')\n",
    "# axes[0].figure.colorbar(im, fraction=0.03, pad=0.04)\n",
    "axes[0].set_xlabel('Time')\n",
    "axes[0].set_ylabel('Feature')\n",
    "\n",
    "\n",
    "psm = axes[1].pcolormesh(\n",
    "    tsr_attr_normed[example_no, target].T, \n",
    "    cmap=cmap, # rasterized=True, # vmin=0, vmax=1\n",
    ")\n",
    "fig.colorbar(psm, ax=axes[1])\n",
    "axes[1].set_xlabel('Time')\n",
    "\n",
    "fig.tight_layout()\n",
    "# plt.suptitle('Heat map of feature importance scores')\n",
    "# plt.savefig('results/heatmap.jpg', dpi=200)\n",
    "plt.show()"
   ]
  },
  {
   "cell_type": "markdown",
   "metadata": {},
   "source": [
    "## Density plot"
   ]
  },
  {
   "cell_type": "code",
   "execution_count": 37,
   "metadata": {},
   "outputs": [
    {
     "data": {
      "image/png": "[encoded data removed]",
      "text/plain": [
       "<Figure size 1152x432 with 2 Axes>"
      ]
     },
     "metadata": {
      "needs_background": "light"
     },
     "output_type": "display_data"
    }
   ],
   "source": [
    "import scipy.stats as st\n",
    "fig, axes = plt.subplots(1, 2, figsize=(16, 6))\n",
    "n_bins = 128\n",
    "\n",
    "dist1 = attr_normed[:, output, :, feature_no].flatten()\n",
    "dist2 = tsr_attr_normed[:, output, :, feature_no].flatten()\n",
    "\n",
    "_ = axes[0].hist(dist1, bins=n_bins, density=True)\n",
    "# We can set the number of bins with the *bins* keyword argument.\n",
    "kde = st.gaussian_kde(dist1)\n",
    "mn, mx = axes[0].get_xlim()\n",
    "kde_xs = np.linspace(mn, mx, 100)\n",
    "axes[0].plot(kde_xs, kde.pdf(kde_xs), label=\"PDF\", color='black')\n",
    "axes[0].set_ylabel('Count')\n",
    "axes[0].set_xlabel(f'{explainer.get_name()}')\n",
    "axes[0].set_xlim(-0.1, 1)\n",
    "\n",
    "_ = axes[1].hist(dist2, bins=n_bins, density=True)\n",
    "axes[1].set_xlabel(f'WTSR + {explainer.get_name()}')\n",
    "kde = st.gaussian_kde(dist2)\n",
    "mn, mx = axes[1].get_xlim()\n",
    "kde_xs = np.linspace(mn, mx, 100)\n",
    "axes[1].plot(kde_xs, kde.pdf(kde_xs), label=\"PDF\", color='black')\n",
    "axes[1].set_xlim(-0.1, 1)\n",
    "# plt.suptitle('Histogram and density plot of feature importance scores')\n",
    "fig.tight_layout()\n",
    "# plt.savefig('results/density.jpg', dpi=200)"
   ]
  },
  {
   "cell_type": "markdown",
   "metadata": {},
   "source": [
    "# WIP"
   ]
  },
  {
   "cell_type": "code",
   "execution_count": 42,
   "metadata": {},
   "outputs": [],
   "source": [
    "from typing import cast\n",
    "batch, time_steps, features = inputs.shape\n",
    "initial_eval = model(inputs, *additional_forward_args)\n",
    "\n",
    "# get as a 2D tensor (if it is not a scalar)\n",
    "if isinstance(initial_eval, torch.Tensor):\n",
    "    initial_eval = initial_eval.reshape(1, -1)\n",
    "    num_outputs = initial_eval.shape[1]\n",
    "else:\n",
    "    num_outputs = 1\n",
    "attrib_type = cast(\n",
    "    torch.dtype,\n",
    "    initial_eval.dtype\n",
    "    if isinstance(initial_eval, Tensor)\n",
    "    else type(initial_eval),\n",
    ")\n"
   ]
  },
  {
   "cell_type": "markdown",
   "metadata": {},
   "source": [
    "## Time relevance"
   ]
  },
  {
   "cell_type": "code",
   "execution_count": 139,
   "metadata": {},
   "outputs": [
    {
     "data": {
      "text/plain": [
       "tensor([[[0.0016, 0.0308, 0.0632, 0.0602, 0.0473, 0.0516, 0.0860, 0.0803,\n",
       "          0.0848, 0.0715, 0.0666, 0.1252, 0.1318, 0.1646, 0.1289, 0.1058,\n",
       "          0.1806, 0.0917, 0.0766, 0.1534, 0.2950, 0.2508, 0.2706, 0.3614,\n",
       "          0.3325, 0.3568, 0.2720, 0.3125, 0.4163, 0.2965, 0.4675, 0.4388,\n",
       "          0.4866, 0.5003, 0.5470, 0.5473, 0.6481, 0.6487, 0.6058, 0.5267,\n",
       "          0.4056, 0.4989, 0.4415, 0.3524, 0.2952, 0.3933, 0.8122, 1.0489],\n",
       "         [0.0017, 0.0263, 0.0574, 0.0543, 0.0388, 0.0411, 0.0739, 0.0696,\n",
       "          0.0716, 0.0568, 0.0501, 0.1083, 0.1153, 0.1486, 0.1118, 0.0847,\n",
       "          0.1669, 0.0763, 0.0643, 0.1448, 0.2956, 0.2480, 0.2818, 0.3705,\n",
       "          0.3357, 0.3727, 0.2891, 0.3643, 0.4774, 0.3862, 0.6002, 0.5288,\n",
       "          0.5897, 0.5667, 0.5921, 0.5369, 0.5812, 0.5674, 0.4987, 0.2994,\n",
       "          0.0739, 0.0213, 0.0238, 0.0736, 0.1818, 0.0230, 0.4797, 1.3612]]],\n",
       "       device='cuda:0', grad_fn=<CopySlices>)"
      ]
     },
     "execution_count": 139,
     "metadata": {},
     "output_type": "execute_result"
    }
   ],
   "source": [
    "time_relevance = torch.zeros(\n",
    "    (batch, num_outputs, time_steps),\n",
    "    dtype=attrib_type, device=inputs.device\n",
    ")\n",
    "ablated_inputs = inputs.clone()\n",
    "for time_step in range(time_steps):\n",
    "    ablated_inputs[:, :time_step+1] = baselines[:, :time_step+1]\n",
    "    modified_eval = model(ablated_inputs, *additional_forward_args)\n",
    "    eval_diff = abs(initial_eval - modified_eval)\n",
    "    time_relevance[:, :, time_step] = eval_diff\n",
    "    # if time_step == 0:\n",
    "        \n",
    "    # else:\n",
    "    #     time_relevance[:, :, time_step] = abs(eval_diff - time_relevance[:, :, time_step-1])\n",
    "    \n",
    "time_relevance"
   ]
  },
  {
   "cell_type": "code",
   "execution_count": 157,
   "metadata": {},
   "outputs": [
    {
     "data": {
      "text/plain": [
       "tensor([[[ 0.4865,  0.7340,  1.1564,  1.3058,  1.4821,  1.7018,  2.1066,\n",
       "           2.1046,  2.4366,  2.6909,  2.8821,  3.1309,  3.4124,  3.6452,\n",
       "           3.8315,  3.9589,  4.1558,  4.2678,  4.5489,  5.0302,  5.4719,\n",
       "           5.6303,  6.0751,  6.5951,  6.8844,  7.5547,  7.9247,  8.4373,\n",
       "           8.6372,  9.1400,  9.4964,  9.9309, 10.2036, 10.6495, 11.0622,\n",
       "          11.2936, 11.5255, 11.7845, 11.9606, 12.3428, 12.7176, 12.9820,\n",
       "          13.3904, 13.9393, 14.4435, 14.6985, 15.0176, 15.5050],\n",
       "         [ 0.3953,  0.7042,  1.1612,  1.3159,  1.5753,  1.7752,  2.1468,\n",
       "           2.1363,  2.4708,  2.7729,  2.9481,  3.1501,  3.5593,  3.8269,\n",
       "           4.0654,  4.2282,  4.4359,  4.5472,  4.7999,  5.1587,  5.5141,\n",
       "           5.6408,  6.1218,  6.3898,  6.7098,  7.2614,  7.6166,  8.1984,\n",
       "           8.3187,  9.0002,  9.4634, 10.0114, 10.3679, 10.7904, 11.1180,\n",
       "          11.3246, 11.6295, 11.7664, 12.0588, 12.4630, 12.7932, 13.0786,\n",
       "          13.4296, 13.9326, 14.5039, 15.1528, 15.8264, 16.4192]]],\n",
       "       device='cuda:0')"
      ]
     },
     "execution_count": 157,
     "metadata": {},
     "output_type": "execute_result"
    }
   ],
   "source": [
    "time_relevance = torch.zeros(\n",
    "    (batch, num_outputs, time_steps),\n",
    "    dtype=attrib_type, device=inputs.device\n",
    ")\n",
    "ablated_inputs = inputs.clone()\n",
    "for time_step in range(time_steps):\n",
    "    ablated_inputs[:, :time_step+1] = baselines[:, :time_step+1]\n",
    "\n",
    "    attr_ = compute_attr(\n",
    "        ablated_inputs, baselines, explainer, \n",
    "        additional_forward_args, args,\n",
    "        avg_attr=False\n",
    "    )\n",
    "    time_relevance[:, :, time_step] = (attr - attr_).abs().sum(dim=(2, 3))\n",
    "    \n",
    "    # no need to revert back to original time series since all previous steps are ablated\n",
    "    # ablated_inputs[:, :time_step+1] = inputs[:, :time_step+1]\n",
    "    \n",
    "time_relevance"
   ]
  },
  {
   "cell_type": "code",
   "execution_count": 155,
   "metadata": {},
   "outputs": [
    {
     "name": "stdout",
     "output_type": "stream",
     "text": [
      "(1, 31)\n",
      "(48, 1)\n"
     ]
    }
   ],
   "source": [
    "tsr_sliding_window_shapes = tuple(\n",
    "    (1, inputs.shape[2])\n",
    ")\n",
    "print(tsr_sliding_window_shapes)\n",
    "\n",
    "feature_sliding_window_shapes = tuple(\n",
    "    (inputs.shape[1], 1)\n",
    ")\n",
    "print(feature_sliding_window_shapes)"
   ]
  },
  {
   "cell_type": "code",
   "execution_count": null,
   "metadata": {},
   "outputs": [],
   "source": [
    "tsr_explainer.attribute.__wrapped__(\n",
    "    self,\n",
    "    inputs=inputs,\n",
    "    sliding_window_shapes=tsr_sliding_window_shapes,\n",
    "    strides=None,\n",
    "    baselines=baselines,\n",
    "    target=target,\n",
    "    additional_forward_args=additional_forward_args,\n",
    "    perturbations_per_eval=perturbations_per_eval,\n",
    "    attributions_fn=abs,\n",
    "    show_progress=show_progress,\n",
    "    #TODO: uncomment after new release\n",
    "    # kwargs_run_forward=kwargs,\n",
    ")"
   ]
  },
  {
   "cell_type": "code",
   "execution_count": null,
   "metadata": {},
   "outputs": [],
   "source": [
    "FeatureAblation.attribute.__wrapped__(\n",
    "    explainer,\n",
    "    inputs,\n",
    "    baselines=baselines,\n",
    "    target=target,\n",
    "    additional_forward_args=additional_forward_args,\n",
    "    perturbations_per_eval=1,\n",
    "    sliding_window_tensors=tsr_sliding_window_shapes,\n",
    "    shift_counts=tuple(shift_counts),\n",
    "    is_above_threshold=is_above_threshold,\n",
    "    strides=strides,\n",
    "    attributions_fn=abs,\n",
    "    show_progress=show_progress,\n",
    "    #TODO: uncomment after new release\n",
    "    # kwargs_run_forward=kwargs,\n",
    ")"
   ]
  },
  {
   "cell_type": "code",
   "execution_count": 158,
   "metadata": {},
   "outputs": [
    {
     "data": {
      "text/plain": [
       "tensor([[[0.0000, 0.0008, 0.0020, 0.0025, 0.0030, 0.0037, 0.0050, 0.0049,\n",
       "          0.0060, 0.0067, 0.0073, 0.0081, 0.0089, 0.0097, 0.0102, 0.0106,\n",
       "          0.0112, 0.0116, 0.0124, 0.0139, 0.0152, 0.0157, 0.0171, 0.0187,\n",
       "          0.0196, 0.0216, 0.0227, 0.0243, 0.0249, 0.0265, 0.0276, 0.0289,\n",
       "          0.0297, 0.0311, 0.0323, 0.0330, 0.0338, 0.0345, 0.0351, 0.0363,\n",
       "          0.0374, 0.0382, 0.0395, 0.0411, 0.0427, 0.0435, 0.0444, 0.0459],\n",
       "         [0.0000, 0.0009, 0.0023, 0.0027, 0.0035, 0.0041, 0.0052, 0.0052,\n",
       "          0.0062, 0.0071, 0.0076, 0.0082, 0.0094, 0.0102, 0.0110, 0.0114,\n",
       "          0.0121, 0.0124, 0.0131, 0.0142, 0.0153, 0.0157, 0.0171, 0.0179,\n",
       "          0.0188, 0.0205, 0.0215, 0.0233, 0.0236, 0.0257, 0.0271, 0.0287,\n",
       "          0.0298, 0.0310, 0.0320, 0.0326, 0.0335, 0.0339, 0.0348, 0.0360,\n",
       "          0.0370, 0.0378, 0.0389, 0.0404, 0.0421, 0.0440, 0.0460, 0.0478]]],\n",
       "       device='cuda:0')"
      ]
     },
     "execution_count": 158,
     "metadata": {},
     "output_type": "execute_result"
    }
   ],
   "source": [
    "# normalize along the time axis\n",
    "time_relevance -= time_relevance.min(dim=-1, keepdim=True).values\n",
    "time_relevance /= time_relevance.sum(dim=-1, keepdim=True)\n",
    "\n",
    "# remove nans and infs\n",
    "time_relevance[\n",
    "    (time_relevance != time_relevance) \n",
    "    | (time_relevance == torch.inf)\n",
    "] = 0\n",
    "time_relevance"
   ]
  },
  {
   "cell_type": "markdown",
   "metadata": {},
   "source": [
    "## Feature relevance"
   ]
  },
  {
   "cell_type": "code",
   "execution_count": 141,
   "metadata": {},
   "outputs": [
    {
     "data": {
      "text/plain": [
       "tensor([[[0.3046, 0.6312, 0.7505, 0.0037, 0.0489, 0.0204, 0.0016, 0.2463,\n",
       "          0.2314, 0.1688, 0.2733, 0.1080, 0.2316, 0.1978, 0.1757, 0.2529,\n",
       "          0.2998, 0.2593, 0.1717, 0.1896, 0.0284, 0.0344, 0.2119, 0.0650,\n",
       "          0.0562, 0.0017, 0.1383, 0.0453, 0.1988, 1.0306, 1.0489],\n",
       "         [0.2263, 0.1596, 0.0441, 1.0356, 0.9799, 0.8971, 0.9546, 0.8465,\n",
       "          0.8322, 0.7747, 0.8378, 0.7688, 0.8857, 1.0431, 0.9768, 1.0877,\n",
       "          1.1373, 1.0019, 0.7035, 0.6341, 0.4887, 0.5295, 0.6361, 0.4414,\n",
       "          0.4289, 0.4379, 0.3168, 0.4257, 0.4281, 1.3878, 1.3612]]],\n",
       "       device='cuda:0', grad_fn=<CopySlices>)"
      ]
     },
     "execution_count": 141,
     "metadata": {},
     "output_type": "execute_result"
    }
   ],
   "source": [
    "# batch x outputs x features\n",
    "feature_relevance = torch.zeros(\n",
    "    (batch, num_outputs, features),\n",
    "    dtype=attrib_type, device=inputs.device\n",
    ")\n",
    "ablated_inputs = inputs.clone()\n",
    "for feature in range(features):\n",
    "    ablated_inputs[:,:, feature] = baselines[:, :, feature]\n",
    "    modified_eval = model(ablated_inputs, *additional_forward_args)\n",
    "    feature_relevance[:, :, feature] = abs(initial_eval - modified_eval)\n",
    "    \n",
    "feature_relevance"
   ]
  },
  {
   "cell_type": "code",
   "execution_count": 163,
   "metadata": {},
   "outputs": [
    {
     "data": {
      "text/plain": [
       "tensor([[[ 8.4245, 11.0854,  6.0214,  8.5742,  1.9025,  1.2846,  1.7730,\n",
       "           6.4384,  1.2214,  2.6103,  3.5909,  4.4128,  3.5242,  1.7336,\n",
       "           1.4041,  3.1436,  2.7753,  2.0733,  6.2760,  2.2210,  9.6117,\n",
       "           2.2883,  4.8373,  3.2102,  3.5659,  2.0157,  1.1715,  4.6825,\n",
       "           5.4674,  6.9938,  1.8379],\n",
       "         [ 8.8179, 11.5781,  5.8444,  8.8700,  2.0744,  1.3633,  1.8777,\n",
       "           6.6646,  1.3282,  2.9302,  4.0467,  5.0797,  3.1001,  1.8469,\n",
       "           1.7510,  3.7250,  3.1429,  2.2385,  5.9870,  2.3305,  9.8434,\n",
       "           2.0446,  4.5538,  3.7351,  3.6904,  2.0748,  1.3878,  5.2359,\n",
       "           5.8249,  7.4956,  2.1351]]], device='cuda:0')"
      ]
     },
     "execution_count": 163,
     "metadata": {},
     "output_type": "execute_result"
    }
   ],
   "source": [
    "feature_relevance = torch.zeros(\n",
    "    (batch, num_outputs, features),\n",
    "    dtype=attrib_type, device=inputs.device\n",
    ")\n",
    "ablated_inputs = inputs.clone()\n",
    "for feature in range(features):\n",
    "    ablated_inputs[:,:, feature] = baselines[:, :, feature]\n",
    "    attr_ = compute_attr(\n",
    "        ablated_inputs, baselines, explainer, \n",
    "        additional_forward_args, args,\n",
    "        avg_attr=False\n",
    "    )\n",
    "    feature_relevance[:, :, feature] = (attr - attr_).abs().sum(dim=(2, 3))\n",
    "    # need to revert back to original time series\n",
    "    ablated_inputs[:,:, feature] = inputs[:, :, feature]\n",
    "    \n",
    "feature_relevance"
   ]
  },
  {
   "cell_type": "code",
   "execution_count": 164,
   "metadata": {},
   "outputs": [
    {
     "data": {
      "text/plain": [
       "tensor([[[0.0807, 0.1103, 0.0540, 0.0824, 0.0081, 0.0013, 0.0067, 0.0586,\n",
       "          0.0006, 0.0160, 0.0269, 0.0361, 0.0262, 0.0063, 0.0026, 0.0219,\n",
       "          0.0178, 0.0100, 0.0568, 0.0117, 0.0939, 0.0124, 0.0408, 0.0227,\n",
       "          0.0266, 0.0094, 0.0000, 0.0391, 0.0478, 0.0648, 0.0074],\n",
       "         [0.0819, 0.1121, 0.0494, 0.0825, 0.0082, 0.0004, 0.0060, 0.0584,\n",
       "          0.0000, 0.0175, 0.0297, 0.0410, 0.0194, 0.0057, 0.0046, 0.0262,\n",
       "          0.0198, 0.0100, 0.0509, 0.0110, 0.0931, 0.0078, 0.0353, 0.0263,\n",
       "          0.0258, 0.0082, 0.0007, 0.0427, 0.0492, 0.0674, 0.0088]]],\n",
       "       device='cuda:0')"
      ]
     },
     "execution_count": 164,
     "metadata": {},
     "output_type": "execute_result"
    }
   ],
   "source": [
    "# normalize along the time axis\n",
    "feature_relevance -= feature_relevance.min(dim=-1, keepdim=True).values\n",
    "feature_relevance /= feature_relevance.sum(dim=-1, keepdim=True)\n",
    "\n",
    "# remove nans and infs\n",
    "feature_relevance[\n",
    "    (feature_relevance != feature_relevance) \n",
    "    | (feature_relevance == torch.inf)\n",
    "] = 0\n",
    "feature_relevance"
   ]
  },
  {
   "cell_type": "markdown",
   "metadata": {},
   "source": [
    "## Merge relevance"
   ]
  },
  {
   "cell_type": "code",
   "execution_count": 173,
   "metadata": {},
   "outputs": [],
   "source": [
    "wtsr_attr = torch.zeros(\n",
    "    (batch, num_outputs, time_steps, features),\n",
    "    dtype=attrib_type, device=inputs.device\n",
    ")\n",
    "for time in range(time_steps):\n",
    "    for feature in range(features):\n",
    "        a = feature_relevance[:, :, feature]\n",
    "        b = time_relevance[:, :, time]\n",
    "        # wtsr_attr[:, :, time, feature] = a + b - a * b\n",
    "        wtsr_attr[:, :, time, feature] = a + b - attr[:, :, time, feature]\n",
    "        \n",
    "wtsr_attr_numpy = wtsr_attr.detach().cpu().numpy()\n",
    "wtsr_attr_normed = normalize_feature(wtsr_attr_numpy)\n",
    "\n",
    "avg_wtsr_attr = wtsr_attr.mean(dim=1)"
   ]
  },
  {
   "cell_type": "code",
   "execution_count": 178,
   "metadata": {},
   "outputs": [],
   "source": [
    "wtsr_attr_normed = normalize_feature(wtsr_attr_numpy)"
   ]
  },
  {
   "cell_type": "markdown",
   "metadata": {},
   "source": [
    "## Visualize"
   ]
  },
  {
   "cell_type": "code",
   "execution_count": 179,
   "metadata": {},
   "outputs": [
    {
     "data": {
      "image/png": "[encoded data removed]",
      "text/plain": [
       "<Figure size 1152x360 with 4 Axes>"
      ]
     },
     "metadata": {
      "needs_background": "light"
     },
     "output_type": "display_data"
    }
   ],
   "source": [
    "fig, axes = plt.subplots(1, 2, figsize =(16, 5))\n",
    "\n",
    "psm = axes[0].pcolormesh(\n",
    "    attr_normed[example_no, target].T, \n",
    "    cmap=cmap, # rasterized=True, # vmin=0, vmax=1\n",
    ")\n",
    "fig.colorbar(psm, ax=axes[0])\n",
    "# im = axes[0].imshow(attr_normed[example_no, target].T, cmap='binary', interpolation='nearest')\n",
    "# axes[0].figure.colorbar(im, fraction=0.03, pad=0.04)\n",
    "axes[0].set_xlabel('Time')\n",
    "axes[0].set_ylabel('Feature')\n",
    "\n",
    "\n",
    "psm = axes[1].pcolormesh(\n",
    "    wtsr_attr_normed[example_no, target].T, \n",
    "    cmap=cmap, # rasterized=True, # vmin=0, vmax=1\n",
    ")\n",
    "fig.colorbar(psm, ax=axes[1])\n",
    "axes[1].set_xlabel('Time')\n",
    "\n",
    "fig.tight_layout()\n",
    "# plt.suptitle('Heat map of feature importance scores')\n",
    "# plt.savefig('results/heatmap.jpg', dpi=200)\n",
    "plt.show()"
   ]
  },
  {
   "cell_type": "markdown",
   "metadata": {},
   "source": [
    "## Evaluate"
   ]
  },
  {
   "cell_type": "code",
   "execution_count": 170,
   "metadata": {},
   "outputs": [
    {
     "name": "stdout",
     "output_type": "stream",
     "text": [
      "0.05, auc, 0, 0\n",
      "0.05, accuracy, 1, 1\n",
      "0.05, cross_entropy, 0.0323, 0.018\n",
      "0.075, auc, 0, 0\n",
      "0.075, accuracy, 1, 1\n",
      "0.075, cross_entropy, 0.0136, 0.0233\n",
      "0.1, auc, 0, 0\n",
      "0.1, accuracy, 1, 1\n",
      "0.1, cross_entropy, 0.00756, 0.022\n",
      "0.15, auc, 0, 0\n",
      "0.15, accuracy, 1, 1\n",
      "0.15, cross_entropy, 0.00406, 0.0354\n"
     ]
    }
   ],
   "source": [
    "for area in args.areas:\n",
    "    for metric_name in args.metrics:\n",
    "        metric = expl_metric_map[metric_name]\n",
    "        error_comp = metric(\n",
    "            model, inputs=inputs, \n",
    "            attributions=avg_wtsr_attr, baselines=baselines, \n",
    "            additional_forward_args=additional_forward_args,\n",
    "            topk=area, mask_largest=True\n",
    "        )\n",
    "        \n",
    "        error_suff = metric(\n",
    "            model, inputs=inputs, \n",
    "            attributions=avg_wtsr_attr, baselines=baselines, \n",
    "            additional_forward_args=additional_forward_args,\n",
    "            topk=area, mask_largest=False\n",
    "        )\n",
    "        print(f'{area}, {metric_name}, {error_comp:.3g}, {error_suff:.3g}')"
   ]
  }
 ],
 "metadata": {
  "kernelspec": {
   "display_name": "Python 3",
   "language": "python",
   "name": "python3"
  },
  "language_info": {
   "codemirror_mode": {
    "name": "ipython",
    "version": 3
   },
   "file_extension": ".py",
   "mimetype": "text/x-python",
   "name": "python",
   "nbconvert_exporter": "python",
   "pygments_lexer": "ipython3",
   "version": "3.10.11"
  },
  "orig_nbformat": 4
 },
 "nbformat": 4,
 "nbformat_minor": 2
}
