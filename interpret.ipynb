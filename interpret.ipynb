{
 "cells": [
  {
   "cell_type": "code",
   "execution_count": 101,
   "metadata": {},
   "outputs": [],
   "source": [
    "from run import *\n",
    "from tint.metrics import mse, mae\n",
    "import tint, captum\n",
    "from tqdm import tqdm\n",
    "import pandas as pd"
   ]
  },
  {
   "cell_type": "code",
   "execution_count": 14,
   "metadata": {},
   "outputs": [],
   "source": [
    "from captum.attr import (\n",
    "    DeepLift,\n",
    "    GradientShap,\n",
    "    IntegratedGradients,\n",
    "    Lime\n",
    ")\n",
    "\n",
    "from tint.attr import (\n",
    "    AugmentedOcclusion,\n",
    "    DynaMask,\n",
    "    Occlusion, \n",
    "    Fit, FeatureAblation\n",
    ")\n",
    "\n",
    "from tint.attr import (\n",
    "    TemporalAugmentedOcclusion,\n",
    "    TemporalIntegratedGradients,\n",
    "    TemporalOcclusion,\n",
    "    TimeForwardTunnel,\n",
    ")"
   ]
  },
  {
   "cell_type": "code",
   "execution_count": 237,
   "metadata": {},
   "outputs": [
    {
     "ename": "AttributeError",
     "evalue": "module 'tint.attr' has no attribute 'DeepLift'",
     "output_type": "error",
     "traceback": [
      "\u001b[1;31m---------------------------------------------------------------------------\u001b[0m",
      "\u001b[1;31mAttributeError\u001b[0m                            Traceback (most recent call last)",
      "\u001b[1;32mc:\\Softwares\\SA-Timeseries\\interpret.ipynb Cell 3\u001b[0m line \u001b[0;36m<cell line: 1>\u001b[1;34m()\u001b[0m\n\u001b[1;32m----> <a href='vscode-notebook-cell:/c%3A/Softwares/SA-Timeseries/interpret.ipynb#Y165sZmlsZQ%3D%3D?line=0'>1</a>\u001b[0m \u001b[39mgetattr\u001b[39;49m(tint\u001b[39m.\u001b[39;49mattr, \u001b[39m'\u001b[39;49m\u001b[39mDeepLift\u001b[39;49m\u001b[39m'\u001b[39;49m)\n",
      "\u001b[1;31mAttributeError\u001b[0m: module 'tint.attr' has no attribute 'DeepLift'"
     ]
    }
   ],
   "source": [
    "getattr(tint.attr, 'DeepLift')"
   ]
  },
  {
   "cell_type": "code",
   "execution_count": 4,
   "metadata": {},
   "outputs": [],
   "source": [
    "parser = get_parser()\n",
    "argv = \"\"\"\n",
    "  --root_path ./dataset/illness/ \\\n",
    "  --data_path national_illness.csv \\\n",
    "  --model_id ili_36_24 \\\n",
    "  --model Transformer \\\n",
    "  --data custom \\\n",
    "    --use_gpu\n",
    "  --features MS \\\n",
    "  --seq_len 36 \\\n",
    "  --label_len 18 \\\n",
    "  --pred_len 24 \\\n",
    "  --e_layers 2 \\\n",
    "  --d_layers 1 \\\n",
    "  --factor 3 \\\n",
    "  --enc_in 7 \\\n",
    "  --dec_in 7 \\\n",
    "  --c_out 7 \\\n",
    "  --des Exp \\\n",
    "  --itr 1\n",
    "\"\"\".split()\n",
    "args = parser.parse_args(argv)"
   ]
  },
  {
   "cell_type": "code",
   "execution_count": 5,
   "metadata": {},
   "outputs": [],
   "source": [
    "args.explainers = [\n",
    "    \"deep_lift\",\n",
    "    \"gradient_shap\",\n",
    "    \"integrated_gradients\",\n",
    "    \"lime\",\n",
    "    \"occlusion\",\n",
    "    \"augmented_occlusion\",\n",
    "    \"dyna_mask\"\n",
    "]\n",
    "\n",
    "args.areas = [\n",
    "    0.2, 0.5\n",
    "]"
   ]
  },
  {
   "cell_type": "code",
   "execution_count": 97,
   "metadata": {},
   "outputs": [],
   "source": [
    "explainer_name_map = {\"deep_lift\":DeepLift,\n",
    "    \"gradient_shap\":GradientShap,\n",
    "    \"integrated_gradients\":IntegratedGradients,\n",
    "    \"lime\":Lime,\n",
    "    \"occlusion\":Occlusion,\n",
    "    # \"augmented_occlusion\":AugmentedOcclusion,\n",
    "    \"dyna_mask\":DynaMask,\n",
    "    \"feature_ablation\":FeatureAblation}"
   ]
  },
  {
   "cell_type": "code",
   "execution_count": 7,
   "metadata": {},
   "outputs": [],
   "source": [
    "set_random_seed(args.seed)\n",
    "# Disable cudnn if using cuda accelerator.\n",
    "# Please see https://captum.ai/docs/faq#how-can-i-resolve-cudnn-rnn-backward-error-for-rnn-or-lstm-network\n",
    "args.use_gpu = False\n",
    "\n",
    "assert args.task_name == 'long_term_forecast', \"Only long_term_forecast is supported for now\"\n",
    "Exp = Exp_Long_Term_Forecast\n",
    "\n",
    "setting = stringify_setting(args, 0)"
   ]
  },
  {
   "cell_type": "code",
   "execution_count": 8,
   "metadata": {},
   "outputs": [
    {
     "name": "stdout",
     "output_type": "stream",
     "text": [
      "Use CPU\n",
      "test 170\n"
     ]
    },
    {
     "data": {
      "text/plain": [
       "<All keys matched successfully>"
      ]
     },
     "execution_count": 8,
     "metadata": {},
     "output_type": "execute_result"
    }
   ],
   "source": [
    "exp = Exp(args)  # set experiments\n",
    "_, dataloader = exp._get_data('test')\n",
    "exp.model.load_state_dict(\n",
    "    torch.load(os.path.join('checkpoints/' + setting, 'checkpoint.pth'))\n",
    ")\n",
    "result_folder = './results/' + setting + '/'"
   ]
  },
  {
   "cell_type": "code",
   "execution_count": 11,
   "metadata": {},
   "outputs": [],
   "source": [
    "model = exp.model\n",
    "model.eval()\n",
    "model.zero_grad()\n",
    "\n",
    "# only need to output targets, sinec interpretation is based on outputs\n",
    "assert not exp.args.output_attention"
   ]
  },
  {
   "cell_type": "code",
   "execution_count": 267,
   "metadata": {},
   "outputs": [],
   "source": [
    "def compute_attr(\n",
    "    inputs, baselines, explainer,\n",
    "    additional_forward_args, args\n",
    "):\n",
    "    assert isinstance(inputs, tuple), 'inputs not generalized for single tensor yet'\n",
    "    name = explainer.get_name()\n",
    "    if name in ['Deep Lift', 'Lime', 'Integrated Gradients']:\n",
    "        attr_list = []\n",
    "        for target in range(args.pred_len):\n",
    "            score = explainer.attribute(\n",
    "                inputs=inputs, baselines=baselines, target=target,\n",
    "                additional_forward_args=additional_forward_args\n",
    "            )\n",
    "            attr_list.append(score)\n",
    "        \n",
    "        attr = []\n",
    "        for input_index in range(len(inputs)):\n",
    "            attr_per_input = torch.stack([score[input_index] for score in attr_list])\n",
    "            # pred_len x batch x seq_len x features -> batch x pred_len x seq_len x features\n",
    "            attr_per_input = attr_per_input.permute(1, 0, 2, 3)\n",
    "            attr.append(attr_per_input)\n",
    "            \n",
    "        attr = tuple(attr)\n",
    "        \n",
    "    elif name == 'Feature Ablation':\n",
    "        attr = explainer.attribute(\n",
    "            inputs=inputs, baselines=baselines,\n",
    "            additional_forward_args=additional_forward_args\n",
    "        )\n",
    "    elif name == 'Occlusion' or name=='Augmented Occlusion':\n",
    "        attr = explainer.attribute(\n",
    "            inputs=inputs,\n",
    "            baselines=baselines,\n",
    "            sliding_window_shapes = tuple([(1,1) for _ in inputs]),\n",
    "            additional_forward_args=additional_forward_args\n",
    "        )\n",
    "    else:\n",
    "        raise NotImplementedError\n",
    "    \n",
    "    # batch x seq_len x features\n",
    "    attr = tuple([\n",
    "        score.reshape(\n",
    "            # batch x pred_len x seq_len x features\n",
    "            (inputs[0].shape[0], args.pred_len, args.seq_len, score.shape[-1])\n",
    "        # take mean over the output horizon\n",
    "        ).mean(axis=1) for score in attr\n",
    "    ])\n",
    "    \n",
    "    return attr"
   ]
  },
  {
   "cell_type": "code",
   "execution_count": 262,
   "metadata": {},
   "outputs": [],
   "source": [
    "def get_explainer_by_name(name:str):\n",
    "    try: explainer_class = getattr(tint.attr, name)\n",
    "    except:\n",
    "        try: explainer_class = getattr(captum.attr, name)\n",
    "        except: raise\n",
    "        \n",
    "    return explainer_class"
   ]
  },
  {
   "cell_type": "code",
   "execution_count": 264,
   "metadata": {},
   "outputs": [],
   "source": [
    "expl_metrics = ['mae', 'mse']\n",
    "expl_metrics = [getattr(tint.metrics, metric_name) for metric_name in expl_metrics]\n",
    "areas = [0.1, 0.2, 0.5]\n",
    "\n",
    "explainers = ['deep_lift', 'feature_ablation'] # explainers = args.explainers\n",
    "explainers_map = dict()\n",
    "for name in explainers:\n",
    "    explainers_map[name] = explainer_name_map[name](model)"
   ]
  },
  {
   "cell_type": "code",
   "execution_count": 280,
   "metadata": {},
   "outputs": [
    {
     "name": "stderr",
     "output_type": "stream",
     "text": [
      "6it [10:02, 100.44s/it]\n"
     ]
    }
   ],
   "source": [
    "results = []\n",
    "baseline_mode = \"aug\" # \"zeros\", \"aug\"\n",
    "result_columns = ['batch_index', 'explainer', 'metric', 'area', 'comp', 'suff']\n",
    "output_file = open(os.path.join(result_folder, \"batch_interpretation_results.csv\"), 'w')\n",
    "output_file.write(','.join(result_columns))\n",
    "\n",
    "progress_bar = tqdm(\n",
    "    enumerate(dataloader), total=len(dataloader), disable=False\n",
    ")\n",
    "for batch_index, (batch_x, batch_y, batch_x_mark, batch_y_mark) in progress_bar:\n",
    "    batch_x = batch_x.float().to(exp.device)\n",
    "    batch_y = batch_y.float().to(exp.device)\n",
    "\n",
    "    batch_x_mark = batch_x_mark.float().to(exp.device)\n",
    "    batch_y_mark = batch_y_mark.float().to(exp.device)\n",
    "    # decoder input\n",
    "    dec_inp = torch.zeros_like(batch_y[:, -exp.args.pred_len:, :]).float()\n",
    "    dec_inp = torch.cat([batch_y[:, :exp.args.label_len, :], dec_inp], dim=1).float()\n",
    "    # outputs = model(batch_x, batch_x_mark, dec_inp, batch_y_mark)\n",
    "    \n",
    "    inputs = (batch_x, batch_x_mark)\n",
    "    # baseline must be a scaler or tuple of tensors with same dimension as input\n",
    "    if baseline_mode=='zeros': baselines = tuple([0]*len(inputs))\n",
    "    else: baselines = tuple([\n",
    "        torch.mean(input, axis=0).repeat(input.shape[0], 1, 1).float() \\\n",
    "            for input in inputs\n",
    "    ])\n",
    "    additional_forward_args = (dec_inp, batch_y_mark)\n",
    "\n",
    "    # get attributions\n",
    "    for name in explainers:\n",
    "        explainer = explainers_map[name]\n",
    "        attr = compute_attr(\n",
    "            inputs, baselines, explainer, additional_forward_args, args\n",
    "        )\n",
    "    \n",
    "        # get scores\n",
    "        for area in areas:\n",
    "            for metric_name in ['mae', 'mse']:\n",
    "                metric = getattr(tint.metrics, metric_name)\n",
    "                error_comp = metric(\n",
    "                    model, inputs=inputs, \n",
    "                    attributions=attr, baselines=baselines, \n",
    "                    additional_forward_args=additional_forward_args,\n",
    "                    topk=area, mask_largest=True\n",
    "                )\n",
    "                \n",
    "                error_suff = metric(\n",
    "                    model, inputs=inputs, \n",
    "                    attributions=attr, baselines=baselines, \n",
    "                    additional_forward_args=additional_forward_args,\n",
    "                    topk=area, mask_largest=False\n",
    "                )\n",
    "           \n",
    "                result_row = [batch_index, name, metric_name, area, error_comp, error_suff]\n",
    "                # print(result_row)\n",
    "                output_file.write(\"\\n\" + ','.join([str(r) for r in result_row]))\n",
    "                results.append(result_row)\n",
    "        \n",
    "        output_file.flush()\n",
    "    # break\n",
    "output_file.close()"
   ]
  },
  {
   "cell_type": "code",
   "execution_count": 281,
   "metadata": {},
   "outputs": [
    {
     "data": {
      "text/html": [
       "<div>\n",
       "<style scoped>\n",
       "    .dataframe tbody tr th:only-of-type {\n",
       "        vertical-align: middle;\n",
       "    }\n",
       "\n",
       "    .dataframe tbody tr th {\n",
       "        vertical-align: top;\n",
       "    }\n",
       "\n",
       "    .dataframe thead th {\n",
       "        text-align: right;\n",
       "    }\n",
       "</style>\n",
       "<table border=\"1\" class=\"dataframe\">\n",
       "  <thead>\n",
       "    <tr style=\"text-align: right;\">\n",
       "      <th></th>\n",
       "      <th>batch_index</th>\n",
       "      <th>explainer</th>\n",
       "      <th>metric</th>\n",
       "      <th>area</th>\n",
       "      <th>comp</th>\n",
       "      <th>suff</th>\n",
       "    </tr>\n",
       "  </thead>\n",
       "  <tbody>\n",
       "    <tr>\n",
       "      <th>0</th>\n",
       "      <td>0</td>\n",
       "      <td>deep_lift</td>\n",
       "      <td>mae</td>\n",
       "      <td>0.1</td>\n",
       "      <td>3.041492</td>\n",
       "      <td>4.536799</td>\n",
       "    </tr>\n",
       "    <tr>\n",
       "      <th>1</th>\n",
       "      <td>0</td>\n",
       "      <td>deep_lift</td>\n",
       "      <td>mse</td>\n",
       "      <td>0.1</td>\n",
       "      <td>0.424379</td>\n",
       "      <td>0.956420</td>\n",
       "    </tr>\n",
       "    <tr>\n",
       "      <th>2</th>\n",
       "      <td>0</td>\n",
       "      <td>deep_lift</td>\n",
       "      <td>mae</td>\n",
       "      <td>0.2</td>\n",
       "      <td>4.301575</td>\n",
       "      <td>5.090987</td>\n",
       "    </tr>\n",
       "    <tr>\n",
       "      <th>3</th>\n",
       "      <td>0</td>\n",
       "      <td>deep_lift</td>\n",
       "      <td>mse</td>\n",
       "      <td>0.2</td>\n",
       "      <td>0.844737</td>\n",
       "      <td>1.179293</td>\n",
       "    </tr>\n",
       "    <tr>\n",
       "      <th>4</th>\n",
       "      <td>0</td>\n",
       "      <td>deep_lift</td>\n",
       "      <td>mae</td>\n",
       "      <td>0.5</td>\n",
       "      <td>4.672506</td>\n",
       "      <td>4.955289</td>\n",
       "    </tr>\n",
       "    <tr>\n",
       "      <th>...</th>\n",
       "      <td>...</td>\n",
       "      <td>...</td>\n",
       "      <td>...</td>\n",
       "      <td>...</td>\n",
       "      <td>...</td>\n",
       "      <td>...</td>\n",
       "    </tr>\n",
       "    <tr>\n",
       "      <th>67</th>\n",
       "      <td>5</td>\n",
       "      <td>feature_ablation</td>\n",
       "      <td>mse</td>\n",
       "      <td>0.1</td>\n",
       "      <td>0.069005</td>\n",
       "      <td>0.139158</td>\n",
       "    </tr>\n",
       "    <tr>\n",
       "      <th>68</th>\n",
       "      <td>5</td>\n",
       "      <td>feature_ablation</td>\n",
       "      <td>mae</td>\n",
       "      <td>0.2</td>\n",
       "      <td>1.515319</td>\n",
       "      <td>1.857422</td>\n",
       "    </tr>\n",
       "    <tr>\n",
       "      <th>69</th>\n",
       "      <td>5</td>\n",
       "      <td>feature_ablation</td>\n",
       "      <td>mse</td>\n",
       "      <td>0.2</td>\n",
       "      <td>0.115939</td>\n",
       "      <td>0.162400</td>\n",
       "    </tr>\n",
       "    <tr>\n",
       "      <th>70</th>\n",
       "      <td>5</td>\n",
       "      <td>feature_ablation</td>\n",
       "      <td>mae</td>\n",
       "      <td>0.5</td>\n",
       "      <td>1.672927</td>\n",
       "      <td>2.036666</td>\n",
       "    </tr>\n",
       "    <tr>\n",
       "      <th>71</th>\n",
       "      <td>5</td>\n",
       "      <td>feature_ablation</td>\n",
       "      <td>mse</td>\n",
       "      <td>0.5</td>\n",
       "      <td>0.140788</td>\n",
       "      <td>0.187738</td>\n",
       "    </tr>\n",
       "  </tbody>\n",
       "</table>\n",
       "<p>72 rows × 6 columns</p>\n",
       "</div>"
      ],
      "text/plain": [
       "    batch_index         explainer metric  area      comp      suff\n",
       "0             0         deep_lift    mae   0.1  3.041492  4.536799\n",
       "1             0         deep_lift    mse   0.1  0.424379  0.956420\n",
       "2             0         deep_lift    mae   0.2  4.301575  5.090987\n",
       "3             0         deep_lift    mse   0.2  0.844737  1.179293\n",
       "4             0         deep_lift    mae   0.5  4.672506  4.955289\n",
       "..          ...               ...    ...   ...       ...       ...\n",
       "67            5  feature_ablation    mse   0.1  0.069005  0.139158\n",
       "68            5  feature_ablation    mae   0.2  1.515319  1.857422\n",
       "69            5  feature_ablation    mse   0.2  0.115939  0.162400\n",
       "70            5  feature_ablation    mae   0.5  1.672927  2.036666\n",
       "71            5  feature_ablation    mse   0.5  0.140788  0.187738\n",
       "\n",
       "[72 rows x 6 columns]"
      ]
     },
     "execution_count": 281,
     "metadata": {},
     "output_type": "execute_result"
    }
   ],
   "source": [
    "results_df = pd.DataFrame(results, columns=result_columns)\n",
    "results_df = results_df.groupby(['explainer', 'metric', 'area'])[['comp', 'suff']].aggregate('mean').reset_index()\n",
    "results_df.round(6).to_csv(os.path.join(result_folder, 'interpretation_results.csv'), index=False)\n",
    "print(results_df)"
   ]
  },
  {
   "cell_type": "code",
   "execution_count": 144,
   "metadata": {},
   "outputs": [
    {
     "data": {
      "text/plain": [
       "4.333446979522705"
      ]
     },
     "execution_count": 144,
     "metadata": {},
     "output_type": "execute_result"
    }
   ],
   "source": [
    "attr = compute_attr(\n",
    "    inputs, baselines, explainer, additional_forward_args, args\n",
    ")"
   ]
  },
  {
   "cell_type": "code",
   "execution_count": 162,
   "metadata": {},
   "outputs": [
    {
     "name": "stderr",
     "output_type": "stream",
     "text": [
      "100%|██████████| 24/24 [05:13<00:00, 13.05s/it]\n"
     ]
    }
   ],
   "source": [
    "explainer = IntegratedGradients(model)\n",
    "\n",
    "attr = []\n",
    "for target in tqdm(range(args.pred_len)):\n",
    "    score = explainer.attribute(\n",
    "        inputs=inputs, baselines=baselines, target=target,\n",
    "        additional_forward_args=additional_forward_args\n",
    "    )\n",
    "    attr.append(score)"
   ]
  },
  {
   "cell_type": "code",
   "execution_count": 213,
   "metadata": {},
   "outputs": [],
   "source": [
    "explainer = FeatureAblation(model)\n",
    "scores = explainer.attribute(\n",
    "    inputs=inputs, baselines=baselines, \n",
    "    additional_forward_args=additional_forward_args\n",
    ")"
   ]
  },
  {
   "cell_type": "code",
   "execution_count": 116,
   "metadata": {},
   "outputs": [],
   "source": [
    "mae_error = mae(\n",
    "    model, inputs=inputs, \n",
    "    attributions=attr, baselines=(0,0), \n",
    "    additional_forward_args=(dec_inp, batch_y_mark),\n",
    "    topk=0.2\n",
    ")"
   ]
  },
  {
   "cell_type": "code",
   "execution_count": 29,
   "metadata": {},
   "outputs": [],
   "source": [
    "# mse_error = mse(\n",
    "#     model, inputs=batch_x, \n",
    "#     attributions=temp, baselines=0, \n",
    "#     additional_forward_args=(batch_x_mark, dec_inp, batch_y_mark),\n",
    "#     topk=0.2\n",
    "# )\n",
    "# print(mse_error)\n",
    "\n",
    "# mae_error = mae(\n",
    "#     model, inputs=batch_x, \n",
    "#     attributions=temp, baselines=0, \n",
    "#     additional_forward_args=(batch_x_mark, dec_inp, batch_y_mark),\n",
    "#     # target=0,\n",
    "#     topk=0.2\n",
    "# )\n",
    "# print(mae_error)"
   ]
  },
  {
   "cell_type": "code",
   "execution_count": 30,
   "metadata": {},
   "outputs": [],
   "source": [
    "# temporal_mask = torch.zeros_like(batch_x, dtype=int)\n",
    "# for t in range(batch_x.shape[1]):\n",
    "#     temporal_mask[:, t] = t\n",
    "\n",
    "# explainer = FeatureAblation(model)\n",
    "# time_score = explainer.attribute(\n",
    "#     inputs=(batch_x),\n",
    "#     baselines=(batch_x*0),\n",
    "#     additional_forward_args=(batch_x_mark, dec_inp, batch_y_mark),\n",
    "#     target=0,\n",
    "#     feature_mask=temporal_mask\n",
    "# )\n",
    "# print(score.shape)"
   ]
  },
  {
   "cell_type": "code",
   "execution_count": 31,
   "metadata": {},
   "outputs": [],
   "source": [
    "# from tint.attr import Occlusion\n",
    "\n",
    "# temporal_mask = torch.zeros(size=(1, *batch_x.shape[1:]), dtype=int)\n",
    "# for t in range(batch_x.shape[1]):\n",
    "#     temporal_mask[:, t, :] = t\n",
    "\n",
    "# explainer = Occlusion(model)\n",
    "# time_score = explainer.attribute(\n",
    "#     inputs=(batch_x),\n",
    "#     baselines=(batch_x*0),\n",
    "#     additional_forward_args=(batch_x_mark, dec_inp, batch_y_mark),\n",
    "#     sliding_window_shapes=(1, 1)\n",
    "#     # feature_mask=temporal_mask.to(exp.device)\n",
    "# )\n",
    "# print(time_score.shape)"
   ]
  },
  {
   "cell_type": "code",
   "execution_count": 32,
   "metadata": {},
   "outputs": [],
   "source": [
    "# from typing import Any\n",
    "\n",
    "# class Unify_Output:\n",
    "#     def __init__(self, model, agg='mean') -> None:\n",
    "#         self.model = model\n",
    "#         self.agg = agg\n",
    "#         assert self.agg in ['mean', 'sum'], 'Aggregation must be either mean or sum'\n",
    "        \n",
    "#     def __call__(self, *args: Any, **kwds: Any) -> Any:\n",
    "#         outputs = model(*args, **kwds)\n",
    "#         # batch size x target\n",
    "#         if self.agg == 'mean':\n",
    "#             return torch.mean(outputs, axis=1)\n",
    "#         else:\n",
    "#             return torch.sum(outputs, axis=1)"
   ]
  }
 ],
 "metadata": {
  "kernelspec": {
   "display_name": "Python 3",
   "language": "python",
   "name": "python3"
  },
  "language_info": {
   "codemirror_mode": {
    "name": "ipython",
    "version": 3
   },
   "file_extension": ".py",
   "mimetype": "text/x-python",
   "name": "python",
   "nbconvert_exporter": "python",
   "pygments_lexer": "ipython3",
   "version": "3.10.11"
  },
  "orig_nbformat": 4
 },
 "nbformat": 4,
 "nbformat_minor": 2
}
