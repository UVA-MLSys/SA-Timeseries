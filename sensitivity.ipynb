{
 "cells": [
  {
   "attachments": {},
   "cell_type": "markdown",
   "metadata": {},
   "source": [
    "# Import"
   ]
  },
  {
   "cell_type": "code",
   "execution_count": 1,
   "metadata": {},
   "outputs": [],
   "source": [
    "from SALib.analyze import sobol\n",
    "from SALib import ProblemSpec\n",
    "\n",
    "import numpy as np\n",
    "import matplotlib.pyplot as plt\n",
    "import pandas as pd\n",
    "pd.set_option('display.max_columns', None)"
   ]
  },
  {
   "attachments": {},
   "cell_type": "markdown",
   "metadata": {},
   "source": [
    "# Dataset"
   ]
  },
  {
   "cell_type": "code",
   "execution_count": 2,
   "metadata": {},
   "outputs": [],
   "source": [
    "from configurations.config import *\n",
    "\n",
    "config = ExperimentConfig(experiment=ExperimentType.ELECTRICITY)\n",
    "formatter = config.data_provider"
   ]
  },
  {
   "attachments": {},
   "cell_type": "markdown",
   "metadata": {},
   "source": [
    "## Load"
   ]
  },
  {
   "cell_type": "code",
   "execution_count": 460,
   "metadata": {},
   "outputs": [
    {
     "name": "stdout",
     "output_type": "stream",
     "text": [
      "Loading datasets\\electricity\\hourly_electricity.csv\n",
      "Feature column, Data type, Input type, Current type\n",
      "id categorical id object\n",
      "hours_from_start int time float64\n",
      "power_usage float target float64\n",
      "hour int known int64\n",
      "day_of_week int known int64\n",
      "categorical_id categorical static object\n",
      "power_usage         float64\n",
      "hours_from_start      int32\n",
      "days_from_start       int64\n",
      "categorical_id       object\n",
      "date                 object\n",
      "id                   object\n",
      "hour                  int32\n",
      "day                   int64\n",
      "day_of_week           int32\n",
      "month                 int64\n",
      "dtype: object\n"
     ]
    },
    {
     "data": {
      "text/html": [
       "<div>\n",
       "<style scoped>\n",
       "    .dataframe tbody tr th:only-of-type {\n",
       "        vertical-align: middle;\n",
       "    }\n",
       "\n",
       "    .dataframe tbody tr th {\n",
       "        vertical-align: top;\n",
       "    }\n",
       "\n",
       "    .dataframe thead th {\n",
       "        text-align: right;\n",
       "    }\n",
       "</style>\n",
       "<table border=\"1\" class=\"dataframe\">\n",
       "  <thead>\n",
       "    <tr style=\"text-align: right;\">\n",
       "      <th></th>\n",
       "      <th>power_usage</th>\n",
       "      <th>hours_from_start</th>\n",
       "      <th>days_from_start</th>\n",
       "      <th>categorical_id</th>\n",
       "      <th>date</th>\n",
       "      <th>id</th>\n",
       "      <th>hour</th>\n",
       "      <th>day</th>\n",
       "      <th>day_of_week</th>\n",
       "      <th>month</th>\n",
       "    </tr>\n",
       "  </thead>\n",
       "  <tbody>\n",
       "    <tr>\n",
       "      <th>0</th>\n",
       "      <td>2.538071</td>\n",
       "      <td>26304</td>\n",
       "      <td>1096</td>\n",
       "      <td>MT_001</td>\n",
       "      <td>2014-01-01 00:00:00</td>\n",
       "      <td>MT_001</td>\n",
       "      <td>0</td>\n",
       "      <td>1</td>\n",
       "      <td>2</td>\n",
       "      <td>1</td>\n",
       "    </tr>\n",
       "    <tr>\n",
       "      <th>1</th>\n",
       "      <td>2.855330</td>\n",
       "      <td>26305</td>\n",
       "      <td>1096</td>\n",
       "      <td>MT_001</td>\n",
       "      <td>2014-01-01 01:00:00</td>\n",
       "      <td>MT_001</td>\n",
       "      <td>1</td>\n",
       "      <td>1</td>\n",
       "      <td>2</td>\n",
       "      <td>1</td>\n",
       "    </tr>\n",
       "    <tr>\n",
       "      <th>2</th>\n",
       "      <td>2.855330</td>\n",
       "      <td>26306</td>\n",
       "      <td>1096</td>\n",
       "      <td>MT_001</td>\n",
       "      <td>2014-01-01 02:00:00</td>\n",
       "      <td>MT_001</td>\n",
       "      <td>2</td>\n",
       "      <td>1</td>\n",
       "      <td>2</td>\n",
       "      <td>1</td>\n",
       "    </tr>\n",
       "  </tbody>\n",
       "</table>\n",
       "</div>"
      ],
      "text/plain": [
       "   power_usage  hours_from_start  days_from_start categorical_id  \\\n",
       "0     2.538071             26304             1096         MT_001   \n",
       "1     2.855330             26305             1096         MT_001   \n",
       "2     2.855330             26306             1096         MT_001   \n",
       "\n",
       "                  date      id  hour  day  day_of_week  month  \n",
       "0  2014-01-01 00:00:00  MT_001     0    1            2      1  \n",
       "1  2014-01-01 01:00:00  MT_001     1    1            2      1  \n",
       "2  2014-01-01 02:00:00  MT_001     2    1            2      1  "
      ]
     },
     "execution_count": 460,
     "metadata": {},
     "output_type": "execute_result"
    }
   ],
   "source": [
    "df = formatter.load()\n",
    "df.head(3)"
   ]
  },
  {
   "cell_type": "code",
   "execution_count": 461,
   "metadata": {},
   "outputs": [],
   "source": [
    "# choosing a subsample\n",
    "df = df[df['id'].isin(df['id'].unique()[:100])]"
   ]
  },
  {
   "attachments": {},
   "cell_type": "markdown",
   "metadata": {},
   "source": [
    "## Split"
   ]
  },
  {
   "cell_type": "code",
   "execution_count": 462,
   "metadata": {},
   "outputs": [
    {
     "name": "stdout",
     "output_type": "stream",
     "text": [
      "(525600, 10) (74400, 10) (33600, 10)\n"
     ]
    }
   ],
   "source": [
    "train, validation, test = formatter.split(df)\n",
    "print(train.shape, validation.shape, test.shape)"
   ]
  },
  {
   "attachments": {},
   "cell_type": "markdown",
   "metadata": {},
   "source": [
    "# Problem Specs"
   ]
  },
  {
   "cell_type": "code",
   "execution_count": 6,
   "metadata": {},
   "outputs": [
    {
     "name": "stdout",
     "output_type": "stream",
     "text": [
      "[[0, 23], [0, 6]]\n"
     ]
    }
   ],
   "source": [
    "# ensure only integer or float values are used here\n",
    "sensitive_features = ['hour', 'day_of_week']\n",
    "dists = ['unif', 'unif']\n",
    "\n",
    "# https://salib.readthedocs.io/en/latest/user_guide/advanced.html#generating-alternate-distributions\n",
    "# the default is to assume all inputs are uniformly distributed.\n",
    "bounds = []\n",
    "for index, feature in enumerate(sensitive_features):\n",
    "    # uniform distribution\n",
    "    # e.g. [-np.pi, np.pi] defines the lower and upper bounds\n",
    "    if dists[index] == 'unif':\n",
    "        bound = [df[feature].min(), df[feature].max()]\n",
    "\n",
    "    # triangular with lower and upper bounds, as well as\n",
    "    # location of peak The location of peak is in percentage of width\n",
    "    elif dists[index] == 'triag':\n",
    "        bound = [df[feature].min(), df[feature].max(), (df[feature].min(), df[feature].max())/2]\n",
    "    \n",
    "    # norm or lognorm with mean and standard deviation\n",
    "    else:\n",
    "        bound = [df[feature].mean(), df[feature].std()]\n",
    "    bounds.append(bound)\n",
    "\n",
    "print(bounds)"
   ]
  },
  {
   "cell_type": "code",
   "execution_count": 463,
   "metadata": {},
   "outputs": [],
   "source": [
    "sp = ProblemSpec({\n",
    "    \"num_vars\": len(sensitive_features),\n",
    "    \"names\": sensitive_features,\n",
    "    \"bounds\": bounds,\n",
    "    # https://salib.readthedocs.io/en/latest/user_guide/advanced.html#generating-alternate-distributions\n",
    "    \"dists\": dists, \n",
    "    # \"outputs\": config.data_provider.targets,\n",
    "    # 'groups': None, # if input features have groups\n",
    "    'sample_scaled': True\n",
    "})"
   ]
  },
  {
   "attachments": {},
   "cell_type": "markdown",
   "metadata": {},
   "source": [
    "The samples, results, and results of analysis are all held inside the sp object. If needed, these may be extracted via their respective attributes."
   ]
  },
  {
   "attachments": {},
   "cell_type": "markdown",
   "metadata": {},
   "source": [
    "# Population"
   ]
  },
  {
   "cell_type": "code",
   "execution_count": 464,
   "metadata": {},
   "outputs": [
    {
     "name": "stdout",
     "output_type": "stream",
     "text": [
      "Data from time index 26471 to      31535 has impact to all horizon.\n",
      "So you can replace max 506500 samples at a time using       N 84416.\n"
     ]
    }
   ],
   "source": [
    "data = train.copy()\n",
    "# the last `horizon` num of time indices are not used as input\n",
    "# which is from (max_time_index - horizon + 1) to max_time_index\n",
    "# so any input perturbation must be done at or before (max_time_index - horizon)\n",
    "max_input_time_index = data[\n",
    "    formatter.time_index[0]\n",
    "].max() - formatter.parameters['horizon']\n",
    "\n",
    "# output doesn't start unless you have at least `window` num of time indices\n",
    "min_output_time_index = data[\n",
    "    formatter.time_index[0]\n",
    "].min() + formatter.parameters['window']\n",
    "\n",
    "# don't reset the index of input_data, \n",
    "# we'll use it to replace values of data later\n",
    "input_data = data[\n",
    "    (data[formatter.time_index[0]] >= (min_output_time_index-1)) &\n",
    "    (data[formatter.time_index[0]] <= max_input_time_index)\n",
    "][formatter.group_id + formatter.time_index] # we only need the id and time index columns \n",
    "\n",
    "population_size = input_data.shape[0]\n",
    "print(f'Data from time index {min_output_time_index-1} to\\\n",
    "      {max_input_time_index} has impact to all horizon.')\n",
    "\n",
    "max_possible_N = int(population_size / (2 * sp['num_vars'] + 2))\n",
    "print(f\"So you can replace max {population_size} samples at a time using \\\n",
    "      N {max_possible_N}.\")"
   ]
  },
  {
   "attachments": {},
   "cell_type": "markdown",
   "metadata": {},
   "source": [
    "# Sample\n",
    "\n",
    "Next, we generate the samples. Since we are performing a Sobol’ sensitivity analysis, we need to generate samples using the Saltelli sampler, as shown below. \n",
    "\n",
    "Here, param_values is a NumPy matrix. If we run param_values.shape, we see that the matrix is 4096 by 1. The Saltelli sampler generated 4096 samples. The Saltelli sampler generates $N \\times (2D + 2)$ samples, where in this example $N$ is 1024 (the argument we supplied) and $D$ is 1 (the number of model inputs). The keyword argument `calc_second_order=False` will exclude second-order indices, resulting in a smaller sample matrix with \n",
    "rows instead."
   ]
  },
  {
   "cell_type": "code",
   "execution_count": 465,
   "metadata": {},
   "outputs": [
    {
     "name": "stdout",
     "output_type": "stream",
     "text": [
      "Generating 393216 samples.\n"
     ]
    },
    {
     "data": {
      "text/plain": [
       "{'num_vars': 2,\n",
       " 'names': ['hour', 'day_of_week'],\n",
       " 'bounds': [[0, 23], [0, 6]],\n",
       " 'dists': ['unif', 'unif'],\n",
       " 'sample_scaled': True,\n",
       " 'groups': None}"
      ]
     },
     "execution_count": 465,
     "metadata": {},
     "output_type": "execute_result"
    }
   ],
   "source": [
    "N = 2**16\n",
    "number_of_samples = N * (2 * sp['num_vars'] + 2)\n",
    "print(f'Generating {number_of_samples} samples.')\n",
    "sp.sample_sobol(N)"
   ]
  },
  {
   "cell_type": "code",
   "execution_count": 466,
   "metadata": {},
   "outputs": [
    {
     "name": "stdout",
     "output_type": "stream",
     "text": [
      "Randomly choosing among 506500 to replace 393216.\n"
     ]
    }
   ],
   "source": [
    "population_size = input_data.shape[0]\n",
    "assert number_of_samples <= population_size, \\\n",
    "    ValueError('Replacement sample size must be <= than the destination population size.')\n",
    "print(f'Randomly choosing among {population_size} to replace {number_of_samples}.')\n",
    "\n",
    "# note the reset index\n",
    "sample_index = input_data.sample(\n",
    "    number_of_samples, random_state=config.seed\n",
    ").index\n",
    "\n",
    "data.loc[sample_index, sensitive_features] = sp.samples"
   ]
  },
  {
   "attachments": {},
   "cell_type": "markdown",
   "metadata": {},
   "source": [
    "# Evaluate"
   ]
  },
  {
   "attachments": {},
   "cell_type": "markdown",
   "metadata": {},
   "source": [
    "## Load model"
   ]
  },
  {
   "cell_type": "code",
   "execution_count": 156,
   "metadata": {},
   "outputs": [
    {
     "name": "stdout",
     "output_type": "stream",
     "text": [
      "Experimental config found for electricity.\n",
      "Fetching parameters from available models ['tft'].\n"
     ]
    }
   ],
   "source": [
    "import warnings\n",
    "warnings.filterwarnings('ignore', category=UserWarning)\n",
    "from utils.data import create_TimeSeriesDataSet\n",
    "\n",
    "parameters = config.model_parameters(ModelType.TFT)"
   ]
  },
  {
   "cell_type": "code",
   "execution_count": 157,
   "metadata": {},
   "outputs": [
    {
     "name": "stdout",
     "output_type": "stream",
     "text": [
      "Checkpoint model best-epoch=0.ckpt.\n"
     ]
    }
   ],
   "source": [
    "from pytorch_forecasting import TemporalFusionTransformer\n",
    "from utils.model import get_best_model_path\n",
    "\n",
    "model = TemporalFusionTransformer.load_from_checkpoint(\n",
    "    get_best_model_path(config.experiment_folder)\n",
    ")"
   ]
  },
  {
   "attachments": {},
   "cell_type": "markdown",
   "metadata": {},
   "source": [
    "## Evaluate"
   ]
  },
  {
   "cell_type": "code",
   "execution_count": 467,
   "metadata": {},
   "outputs": [
    {
     "data": {
      "application/vnd.jupyter.widget-view+json": {
       "model_id": "947e0a11cfd24d21a3444ead30b59ae0",
       "version_major": 2,
       "version_minor": 0
      },
      "text/plain": [
       "Predict:   0%|          | 0/1979 [00:00<?, ? batches/s]"
      ]
     },
     "metadata": {},
     "output_type": "display_data"
    }
   ],
   "source": [
    "show_progress_bar = True\n",
    "\n",
    "_, dataloader = create_TimeSeriesDataSet(\n",
    "    data, formatter, parameters['batch_size']\n",
    ")\n",
    "predictions, prediction_index = model.predict(\n",
    "    dataloader, return_index=True, \n",
    "    show_progress_bar=show_progress_bar\n",
    ")"
   ]
  },
  {
   "cell_type": "code",
   "execution_count": 468,
   "metadata": {},
   "outputs": [],
   "source": [
    "prediction_df = []\n",
    "for index, prediction in enumerate(predictions):\n",
    "    temp = prediction_index.copy()\n",
    "    target = formatter.targets[index]\n",
    "    temp[\n",
    "        [f'{target}_{i}' for i in range(formatter.parameters['horizon'])]\n",
    "    ] = prediction\n",
    "    prediction_df.append(temp)\n",
    "\n",
    "prediction_df = pd.concat(prediction_df)"
   ]
  },
  {
   "cell_type": "code",
   "execution_count": 205,
   "metadata": {},
   "outputs": [],
   "source": [
    "from data_provider.base import BaseDataFormatter\n",
    "\n",
    "def extract_Y(\n",
    "    input_data: pd.DataFrame,\n",
    "    prediction_df: pd.DataFrame,\n",
    "    sample_index:pd.Index,\n",
    "    window_index:int =-1, \n",
    "    horizon_index:int =0,\n",
    "    formatter: BaseDataFormatter = formatter\n",
    ") -> np.ndarray:\n",
    "    \"\"\"_summary_\n",
    "\n",
    "    Args:\n",
    "        input_data (pd.DataFrame): _description_\n",
    "        prediction_df (pd.DataFrame): _description_\n",
    "        window_index (int, optional): _description_. Defaults to -1.\n",
    "        horizon_index (int, optional): _description_. Defaults to 0.\n",
    "        formatter (BaseDataFormatter, optional): _description_. Defaults to formatter.\n",
    "\n",
    "    Returns:\n",
    "        _type_: _description_\n",
    "    \"\"\"    \n",
    "    window = formatter.parameters['window'] \n",
    "    horizon = formatter.parameters['horizon']\n",
    "    assert (- window) <= window_index < 0, \\\n",
    "        ValueError(f'Window time step must be within [-{window} ,-1]. Found {window_index}.')\n",
    "\n",
    "    assert 0 <= horizon_index < horizon,\\\n",
    "        ValueError(f'Horizon time step must be within [0, {horizon}). Found {horizon_index}.')\n",
    "\n",
    "    id = formatter.group_id + formatter.time_index\n",
    "    input_data = input_data.loc[sample_index, id]\n",
    "\n",
    "    input_data[formatter.time_index] += abs(window_index)\n",
    "    target_columns = [\n",
    "        f'{target}_{horizon_index}' for target in formatter.targets\n",
    "    ]\n",
    "    if len(target_columns) == 1:\n",
    "        target_columns = target_columns[0]\n",
    "\n",
    "    merged = input_data.merge(prediction_df, on=id, how='inner')\n",
    "\n",
    "    return merged[target_columns].values"
   ]
  },
  {
   "cell_type": "code",
   "execution_count": 469,
   "metadata": {},
   "outputs": [
    {
     "data": {
      "text/plain": [
       "{'num_vars': 2,\n",
       " 'names': ['hour', 'day_of_week'],\n",
       " 'bounds': [[0, 23], [0, 6]],\n",
       " 'dists': ['unif', 'unif'],\n",
       " 'sample_scaled': True,\n",
       " 'groups': None,\n",
       " 'outputs': ['Y']}"
      ]
     },
     "execution_count": 469,
     "metadata": {},
     "output_type": "execute_result"
    }
   ],
   "source": [
    "Y = extract_Y(input_data, prediction_df, sample_index)\n",
    "sp.set_results(Y)\n"
   ]
  },
  {
   "attachments": {},
   "cell_type": "markdown",
   "metadata": {},
   "source": [
    "# Analyze\n",
    "\n",
    "We use sobol.analyze, which will compute first, second, and total-order indices. `Si` is a Python dict with the keys \"S1\", \"S2\", \"ST\", \"S1_conf\", \"S2_conf\", and \"ST_conf\". The `_conf` keys store the corresponding confidence intervals, typically with a confidence level of 95%. Use the keyword argument `print_to_console=True` to print all indices. Or, we can print the individual values from `Si` as shown below"
   ]
  },
  {
   "cell_type": "code",
   "execution_count": 470,
   "metadata": {},
   "outputs": [
    {
     "name": "stdout",
     "output_type": "stream",
     "text": [
      "Samples:\n",
      "\t2 parameters: ['hour', 'day_of_week']\n",
      "\t393216 evaluations \n",
      "\n",
      "Outputs:\n",
      "\t1 outputs: ['Y']\n",
      "\t393216 evaluations \n",
      "\n",
      "Analysis:\n",
      "                   ST   ST_conf\n",
      "hour         0.976974  0.028696\n",
      "day_of_week  0.996300  0.027273 \n",
      "\n",
      "                   S1   S1_conf\n",
      "hour        -0.004068  0.010495\n",
      "day_of_week -0.001436  0.010442 \n",
      "\n",
      "                           S2   S2_conf\n",
      "(hour, day_of_week) -0.001391  0.014494 \n",
      "\n",
      "\n"
     ]
    }
   ],
   "source": [
    "sp.analyze_sobol()\n",
    "print(sp)"
   ]
  },
  {
   "attachments": {},
   "cell_type": "markdown",
   "metadata": {},
   "source": [
    "# Plotting\n",
    "\n",
    "The plot() method returns matplotlib axes objects to allow later adjustment."
   ]
  },
  {
   "cell_type": "code",
   "execution_count": 232,
   "metadata": {},
   "outputs": [],
   "source": [
    "from classes.PlotConfig import *"
   ]
  },
  {
   "cell_type": "code",
   "execution_count": 471,
   "metadata": {},
   "outputs": [
    {
     "data": {
      "image/png": "[encoded data removed]",
      "text/plain": [
       "<Figure size 1728x864 with 3 Axes>"
      ]
     },
     "metadata": {
      "needs_background": "light"
     },
     "output_type": "display_data"
    }
   ],
   "source": [
    "axes = sp.plot()\n",
    "\n",
    "#     ax.set_xticklabels(ax.get_xticklabels(), rotation=50)\n",
    "# axes[0].tick_params(axis='x', labelrotation=45)\n",
    "# axes[0].set_yscale('log')\n",
    "fig = plt.gcf()  # get current figure\n",
    "# fig.autofmt_xdate(rotation=45)\n",
    "fig.set_size_inches(24, 12)\n",
    "fig.gca().invert_yaxis()\n",
    "plt.tight_layout()"
   ]
  },
  {
   "cell_type": "code",
   "execution_count": 472,
   "metadata": {},
   "outputs": [
    {
     "data": {
      "text/plain": [
       "<AxesSubplot:title={'center':'Y'}>"
      ]
     },
     "execution_count": 472,
     "metadata": {},
     "output_type": "execute_result"
    },
    {
     "data": {
      "image/png": "[encoded data removed]",
      "text/plain": [
       "<Figure size 720x432 with 2 Axes>"
      ]
     },
     "metadata": {
      "needs_background": "light"
     },
     "output_type": "display_data"
    }
   ],
   "source": [
    "sp.heatmap()"
   ]
  },
  {
   "cell_type": "code",
   "execution_count": 334,
   "metadata": {},
   "outputs": [],
   "source": [
    "# def plot(df, figsize=(10, 4)):\n",
    "#     fig, ax = plt.subplots(figsize=figsize)\n",
    "#     plt.barh(df.index, df.iloc[:, -2], height=0.5, xerr=df.iloc[:, -1])\n",
    "#     # ax.barh()\n",
    "#     # show top values\n",
    "#     plt.gca().invert_yaxis()\n",
    "\n",
    "#     # Add x, y gridlines\n",
    "#     # ax.grid(visible= True, color ='grey',\n",
    "#     #         linestyle ='--', linewidth = .5,\n",
    "#     #         alpha =1)\n",
    "\n",
    "#     # Add annotation to bars\n",
    "#     for i in ax.patches:\n",
    "#         plt.text(i.get_width() + 0.02, i.get_y()+0.15,\n",
    "#                 str(round((i.get_width()), 2)),\n",
    "#                 fontsize = 24, # fontweight ='bold',\n",
    "#                 color ='black')\n",
    "    \n",
    "#     plt.tight_layout()\n",
    "#     plt.show()"
   ]
  },
  {
   "attachments": {},
   "cell_type": "markdown",
   "metadata": {},
   "source": [
    "# Dump"
   ]
  },
  {
   "cell_type": "code",
   "execution_count": 225,
   "metadata": {},
   "outputs": [],
   "source": [
    "def dump(\n",
    "    df:pd.DataFrame, filename:str, \n",
    "    directory:str=config.experiment_folder\n",
    "):\n",
    "    # the index for this case is important\n",
    "    df = df.reset_index().round(6)\n",
    "    df.to_csv(os.path.join(directory, filename), index=False)"
   ]
  },
  {
   "cell_type": "code",
   "execution_count": 473,
   "metadata": {},
   "outputs": [],
   "source": [
    "total_Si, first_Si, second_Si = sp.to_df()\n",
    "dump(total_Si, 'total_Si.csv')\n",
    "dump(first_Si, 'first_Si.csv')\n",
    "dump(second_Si, 'second_Si.csv')"
   ]
  },
  {
   "cell_type": "code",
   "execution_count": 474,
   "metadata": {},
   "outputs": [
    {
     "data": {
      "image/png": "[encoded data removed]",
      "text/plain": [
       "<Figure size 576x288 with 1 Axes>"
      ]
     },
     "metadata": {
      "needs_background": "light"
     },
     "output_type": "display_data"
    },
    {
     "data": {
      "image/png": "[encoded data removed]",
      "text/plain": [
       "<Figure size 576x288 with 1 Axes>"
      ]
     },
     "metadata": {
      "needs_background": "light"
     },
     "output_type": "display_data"
    },
    {
     "data": {
      "image/png": "[encoded data removed]",
      "text/plain": [
       "<Figure size 576x216 with 1 Axes>"
      ]
     },
     "metadata": {
      "needs_background": "light"
     },
     "output_type": "display_data"
    }
   ],
   "source": [
    "# https://www.geeksforgeeks.org/bar-plot-in-matplotlib/\n",
    "for title, key, df_si in zip(\n",
    "    ['Total', 'First-order', 'Second-order'],\n",
    "    ['ST', 'S1', 'S2'], [total_Si, first_Si, second_Si]\n",
    "):\n",
    "    ax = df_si.plot.barh(\n",
    "        y=key, xerr=f'{key}_conf', figsize=(8, 2 + len(df_si.index)), \n",
    "        legend=False, capsize=6\n",
    "    )\n",
    "    ax.set_title(f'{title} sensitivity')\n",
    "    ax.invert_yaxis()\n",
    "    # for i in ax.patches:\n",
    "    #     plt.text(i.get_width() + 0.02, i.get_y()+0.15,\n",
    "    #             str(round((i.get_width()), 2)),\n",
    "    #             fontsize = 24, # fontweight ='bold',\n",
    "    #             color ='black')\n",
    "    plt.tight_layout()\n",
    "    plt.savefig(os.path.join(config.experiment_folder, f'{title}.jpg'), dpi=200)"
   ]
  }
 ],
 "metadata": {
  "kernelspec": {
   "display_name": "Python 3",
   "language": "python",
   "name": "python3"
  },
  "language_info": {
   "codemirror_mode": {
    "name": "ipython",
    "version": 3
   },
   "file_extension": ".py",
   "mimetype": "text/x-python",
   "name": "python",
   "nbconvert_exporter": "python",
   "pygments_lexer": "ipython3",
   "version": "3.10.11"
  },
  "orig_nbformat": 4
 },
 "nbformat": 4,
 "nbformat_minor": 2
}
