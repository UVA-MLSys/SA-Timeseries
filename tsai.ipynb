{
 "cells": [
  {
   "cell_type": "markdown",
   "metadata": {},
   "source": [
    "# Imports"
   ]
  },
  {
   "cell_type": "code",
   "execution_count": 1,
   "metadata": {},
   "outputs": [
    {
     "name": "stdout",
     "output_type": "stream",
     "text": [
      "os              : Windows-10-10.0.19045-SP0\n",
      "python          : 3.10.11\n",
      "tsai            : 0.3.7\n",
      "fastai          : 2.7.12\n",
      "fastcore        : 1.5.29\n",
      "torch           : 1.13.1+cu117\n",
      "device          : 1 gpu (['NVIDIA GeForce RTX 3060 Laptop GPU'])\n",
      "cpu cores       : 14\n",
      "threads per cpu : 1\n",
      "RAM             : 31.69 GB\n",
      "GPU memory      : [6.0] GB\n"
     ]
    }
   ],
   "source": [
    "from tsai.all import *\n",
    "my_setup()"
   ]
  },
  {
   "cell_type": "markdown",
   "metadata": {},
   "source": [
    "# Dataset"
   ]
  },
  {
   "cell_type": "markdown",
   "metadata": {},
   "source": [
    "## UCI Electricity "
   ]
  },
  {
   "cell_type": "code",
   "execution_count": 2,
   "metadata": {},
   "outputs": [
    {
     "name": "stdout",
     "output_type": "stream",
     "text": [
      "electricity    : (26304, 322)   ██████████| 100.01% [54001664/53995526 00:05<00:00]\n"
     ]
    }
   ],
   "source": [
    "# https://forecastingdata.org/\n",
    "# https://archive.ics.uci.edu/dataset/321/electricityloaddiagrams20112014\n",
    "# dsid = \"electricity\"\n",
    "# try:\n",
    "#     df = get_long_term_forecasting_data(\n",
    "#         dsid, target_dir='datasets/forecasting/', \n",
    "#         force_download=False, return_df=True\n",
    "#     )\n",
    "#     print(f\"{dsid:15}: {str(df.shape):15}\")\n",
    "#     remove_dir('./data/forecasting/', False)\n",
    "# except Exception as e:\n",
    "#     print(f\"{dsid:15}: {str(e):15}\")"
   ]
  },
  {
   "cell_type": "code",
   "execution_count": 2,
   "metadata": {},
   "outputs": [],
   "source": [
    "from tsai.data.external import get_Monash_forecasting_data\n",
    "import pandas as pd"
   ]
  },
  {
   "cell_type": "code",
   "execution_count": 3,
   "metadata": {},
   "outputs": [
    {
     "name": "stdout",
     "output_type": "stream",
     "text": [
      "Dataset: electricity_hourly_dataset\n",
      "converting data to dataframe...\n",
      "...done\n",
      "\n",
      "freq                   : hourly\n",
      "forecast_horizon       : 168\n",
      "contain_missing_values : False\n",
      "contain_equal_length   : True\n",
      "\n",
      "exploding dataframe...\n",
      "...done\n",
      "\n",
      "\n",
      "data.shape: (8443584, 3)\n",
      "electricity_hourly_dataset: (8443584, 3)   \n"
     ]
    }
   ],
   "source": [
    "dsid = \"electricity_hourly_dataset\"\n",
    "try:\n",
    "    df = get_Monash_forecasting_data(\n",
    "        dsid, path='datasets/forecasting/'\n",
    "    )\n",
    "    print(f\"{dsid:15}: {str(df.shape):15}\")\n",
    "    # del df; gc.collect()\n",
    "    # remove_dir('datasets/forecasting/', False)\n",
    "except Exception as e:\n",
    "    print(f\"{dsid:15}: {str(e):15}\")"
   ]
  },
  {
   "cell_type": "code",
   "execution_count": 4,
   "metadata": {},
   "outputs": [],
   "source": [
    "def add_time_encoding(data:pd.DataFrame, time_column:str=\"date\"):\n",
    "    df = data.copy()\n",
    "\n",
    "    date = pd.to_datetime(df[time_column])\n",
    "    earliest_date = date.min()\n",
    "\n",
    "    delta = (date - earliest_date).dt\n",
    "    df['hours_from_start'] = delta.seconds  / 60 / 60 + delta.days * 24\n",
    "    # df['days_from_start'] = delta.days\n",
    "    df['hour'] = date.dt.hour\n",
    "    df['day'] = date.dt.day\n",
    "    df['weekday'] = date.dt.weekday\n",
    "    df['month'] = date.dt.month\n",
    "\n",
    "    return df"
   ]
  },
  {
   "cell_type": "code",
   "execution_count": 5,
   "metadata": {},
   "outputs": [
    {
     "data": {
      "text/html": [
       "<div>\n",
       "<style scoped>\n",
       "    .dataframe tbody tr th:only-of-type {\n",
       "        vertical-align: middle;\n",
       "    }\n",
       "\n",
       "    .dataframe tbody tr th {\n",
       "        vertical-align: top;\n",
       "    }\n",
       "\n",
       "    .dataframe thead th {\n",
       "        text-align: right;\n",
       "    }\n",
       "</style>\n",
       "<table border=\"1\" class=\"dataframe\">\n",
       "  <thead>\n",
       "    <tr style=\"text-align: right;\">\n",
       "      <th></th>\n",
       "      <th>series_name</th>\n",
       "      <th>timestamp</th>\n",
       "      <th>series_value</th>\n",
       "    </tr>\n",
       "  </thead>\n",
       "  <tbody>\n",
       "    <tr>\n",
       "      <th>0</th>\n",
       "      <td>T1</td>\n",
       "      <td>2012-01-01 00:00:01</td>\n",
       "      <td>14.0</td>\n",
       "    </tr>\n",
       "    <tr>\n",
       "      <th>1</th>\n",
       "      <td>T1</td>\n",
       "      <td>2012-01-01 01:00:01</td>\n",
       "      <td>18.0</td>\n",
       "    </tr>\n",
       "    <tr>\n",
       "      <th>2</th>\n",
       "      <td>T1</td>\n",
       "      <td>2012-01-01 02:00:01</td>\n",
       "      <td>21.0</td>\n",
       "    </tr>\n",
       "    <tr>\n",
       "      <th>3</th>\n",
       "      <td>T1</td>\n",
       "      <td>2012-01-01 03:00:01</td>\n",
       "      <td>20.0</td>\n",
       "    </tr>\n",
       "    <tr>\n",
       "      <th>4</th>\n",
       "      <td>T1</td>\n",
       "      <td>2012-01-01 04:00:01</td>\n",
       "      <td>22.0</td>\n",
       "    </tr>\n",
       "  </tbody>\n",
       "</table>\n",
       "</div>"
      ],
      "text/plain": [
       "  series_name           timestamp  series_value\n",
       "0          T1 2012-01-01 00:00:01          14.0\n",
       "1          T1 2012-01-01 01:00:01          18.0\n",
       "2          T1 2012-01-01 02:00:01          21.0\n",
       "3          T1 2012-01-01 03:00:01          20.0\n",
       "4          T1 2012-01-01 04:00:01          22.0"
      ]
     },
     "execution_count": 5,
     "metadata": {},
     "output_type": "execute_result"
    }
   ],
   "source": [
    "time_column = 'timestamp'\n",
    "id_column = 'series_name'\n",
    "target_column = 'series_value'\n",
    "\n",
    "df = df[df[time_column] >= pd.to_datetime('2012-01-01')].reset_index(drop=True)\n",
    "df.head()"
   ]
  },
  {
   "cell_type": "code",
   "execution_count": 6,
   "metadata": {},
   "outputs": [],
   "source": [
    "df = add_time_encoding(df, time_column='timestamp')\n",
    "df.to_csv('datasets/forecasting/electricity_hourly_dataset.csv', index=False)"
   ]
  },
  {
   "cell_type": "code",
   "execution_count": 107,
   "metadata": {},
   "outputs": [],
   "source": [
    "def summary(df:pd.DataFrame, time_column, id_column):\n",
    "    T = df[time_column].nunique()\n",
    "    n_ids = df[id_column].nunique()\n",
    "    n_samples = df.shape[0]\n",
    "\n",
    "    output = f\"\\\n",
    "    The dataset has {T} time steps, {n_ids} ids.\\n\\\n",
    "    Sample size {n_samples}, per user {n_samples/n_ids}.\\n\\\n",
    "    Start {df[time_column].min()}, end {df[time_column].max()}.\\n\"\n",
    "    \n",
    "    print(output)"
   ]
  },
  {
   "cell_type": "code",
   "execution_count": 106,
   "metadata": {},
   "outputs": [
    {
     "name": "stdout",
     "output_type": "stream",
     "text": [
      "    The dataset has 26304 time steps, 321 ids.\n",
      "    Sample size 8443584, per user 26304.0.\n",
      "    Start 2012-01-01 00:00:01, end 2014-12-31 23:00:01.\n",
      "\n"
     ]
    }
   ],
   "source": [
    "summary(df, time_column, id_column)"
   ]
  },
  {
   "cell_type": "code",
   "execution_count": 91,
   "metadata": {},
   "outputs": [
    {
     "data": {
      "text/html": [
       "<div>\n",
       "<style scoped>\n",
       "    .dataframe tbody tr th:only-of-type {\n",
       "        vertical-align: middle;\n",
       "    }\n",
       "\n",
       "    .dataframe tbody tr th {\n",
       "        vertical-align: top;\n",
       "    }\n",
       "\n",
       "    .dataframe thead th {\n",
       "        text-align: right;\n",
       "    }\n",
       "</style>\n",
       "<table border=\"1\" class=\"dataframe\">\n",
       "  <thead>\n",
       "    <tr style=\"text-align: right;\">\n",
       "      <th></th>\n",
       "      <th>series_name</th>\n",
       "      <th>timestamp</th>\n",
       "      <th>series_value</th>\n",
       "      <th>hours_from_start</th>\n",
       "      <th>hour</th>\n",
       "      <th>day</th>\n",
       "      <th>weekday</th>\n",
       "      <th>month</th>\n",
       "    </tr>\n",
       "  </thead>\n",
       "  <tbody>\n",
       "    <tr>\n",
       "      <th>0</th>\n",
       "      <td>T1</td>\n",
       "      <td>2014-01-01 00:00:01</td>\n",
       "      <td>12.0</td>\n",
       "      <td>0.0</td>\n",
       "      <td>0</td>\n",
       "      <td>1</td>\n",
       "      <td>2</td>\n",
       "      <td>1</td>\n",
       "    </tr>\n",
       "    <tr>\n",
       "      <th>1</th>\n",
       "      <td>T1</td>\n",
       "      <td>2014-01-01 01:00:01</td>\n",
       "      <td>13.0</td>\n",
       "      <td>1.0</td>\n",
       "      <td>1</td>\n",
       "      <td>1</td>\n",
       "      <td>2</td>\n",
       "      <td>1</td>\n",
       "    </tr>\n",
       "    <tr>\n",
       "      <th>2</th>\n",
       "      <td>T1</td>\n",
       "      <td>2014-01-01 02:00:01</td>\n",
       "      <td>13.0</td>\n",
       "      <td>2.0</td>\n",
       "      <td>2</td>\n",
       "      <td>1</td>\n",
       "      <td>2</td>\n",
       "      <td>1</td>\n",
       "    </tr>\n",
       "  </tbody>\n",
       "</table>\n",
       "</div>"
      ],
      "text/plain": [
       "  series_name           timestamp  series_value  hours_from_start  hour  day  \\\n",
       "0          T1 2014-01-01 00:00:01          12.0               0.0     0    1   \n",
       "1          T1 2014-01-01 01:00:01          13.0               1.0     1    1   \n",
       "2          T1 2014-01-01 02:00:01          13.0               2.0     2    1   \n",
       "\n",
       "   weekday  month  \n",
       "0        2      1  \n",
       "1        2      1  \n",
       "2        2      1  "
      ]
     },
     "execution_count": 91,
     "metadata": {},
     "output_type": "execute_result"
    }
   ],
   "source": [
    "df.head(3)"
   ]
  },
  {
   "cell_type": "code",
   "execution_count": 11,
   "metadata": {},
   "outputs": [],
   "source": [
    "fcst_history = 168\n",
    "fcst_horizon = 24\n",
    "stride = 1\n",
    "valid_size=0.1\n",
    "test_size=0.2"
   ]
  },
  {
   "cell_type": "code",
   "execution_count": 7,
   "metadata": {},
   "outputs": [
    {
     "name": "stdout",
     "output_type": "stream",
     "text": [
      "['hours_from_start', 'hour', 'day', 'weekday', 'month'] series_value\n"
     ]
    }
   ],
   "source": [
    "x_vars = [col for col in df.columns if col not in [time_column, id_column, target_column]]\n",
    "y_vars = target_column\n",
    "print(x_vars, y_vars)"
   ]
  },
  {
   "cell_type": "code",
   "execution_count": 118,
   "metadata": {},
   "outputs": [],
   "source": [
    "from tsai.data.preparation import prepare_forecasting_data\n",
    "from tsai.data.validation import get_forecasting_splits"
   ]
  },
  {
   "cell_type": "code",
   "execution_count": 8,
   "metadata": {},
   "outputs": [
    {
     "name": "stdout",
     "output_type": "stream",
     "text": [
      "(78912, 8)\n"
     ]
    }
   ],
   "source": [
    "temp = df[df[id_column].isin([f'T{num}' for num in range(301, 304)])]\n",
    "print(temp.shape)"
   ]
  },
  {
   "cell_type": "code",
   "execution_count": 9,
   "metadata": {},
   "outputs": [],
   "source": [
    "from fastai.learner import Learner\n",
    "from tsai.models import FCN\n",
    "from tsai.all import *\n",
    "from fastai.metrics import mse, mae\n",
    "\n",
    "# https://docs.fast.ai/callback.tracker.html\n",
    "from fastai.callback.tracker import EarlyStoppingCallback, ReduceLROnPlateau, SaveModelCallback\n",
    "from tsai.utils import cat2int"
   ]
  },
  {
   "cell_type": "code",
   "execution_count": 328,
   "metadata": {},
   "outputs": [],
   "source": [
    "cat_names = [] # ['series_name']\n",
    "cont_names = ['hours_from_start', 'hour', 'day', 'weekday', 'month', target_column]\n",
    "\n",
    "for feature in cat_names:\n",
    "    temp[feature] = cat2int(temp[feature].astype(str).values)"
   ]
  },
  {
   "cell_type": "code",
   "execution_count": 12,
   "metadata": {},
   "outputs": [
    {
     "data": {
      "image/png": "[encoded data removed]",
      "text/plain": [
       "<Figure size 1152x36 with 1 Axes>"
      ]
     },
     "metadata": {
      "needs_background": "light"
     },
     "output_type": "display_data"
    }
   ],
   "source": [
    "X, y = prepare_forecasting_data(\n",
    "    temp, fcst_history, fcst_horizon, \n",
    "    x_vars=x_vars, y_vars=target_column\n",
    ")\n",
    "splits = get_forecasting_splits(\n",
    "    temp, fcst_history, fcst_horizon, valid_size=valid_size, \n",
    "    test_size=test_size, show_plot=True\n",
    ")"
   ]
  },
  {
   "cell_type": "code",
   "execution_count": 32,
   "metadata": {},
   "outputs": [],
   "source": [
    "# We'll use inplace=True to preprocess data at dataset initialization. \n",
    "# This will significantly speed up training.\n",
    "from tsai.data.core import TSDatasets, TSDataLoaders\n",
    "from tsai.data.preprocessing import TSStandardize\n",
    "\n",
    "tfms  = [None, [TSRegression()]]\n",
    "batch_tfms = TSStandardize(by_sample=True, by_var=True)\n",
    "batch_size = 64\n",
    "\n",
    "datasets = TSDatasets(X, y, splits=splits, tfms=tfms)\n",
    "dataloaders  = TSDataLoaders.from_dsets(\n",
    "    datasets.train, datasets.valid, bs=[batch_size, batch_size*2],\n",
    "    batch_tfms=batch_tfms, \n",
    "    # num_workers=0\n",
    ")"
   ]
  },
  {
   "cell_type": "code",
   "execution_count": 54,
   "metadata": {},
   "outputs": [
    {
     "name": "stdout",
     "output_type": "stream",
     "text": [
      "arch: TSTPlus(c_in=5 c_out=1 seq_len=168 arch_config={} kwargs={'custom_head': functools.partial(<class 'tsai.models.layers.lin_nd_head'>, d=[1, 24])})\n"
     ]
    },
    {
     "data": {
      "text/html": [
       "\n",
       "<style>\n",
       "    /* Turns off some styling */\n",
       "    progress {\n",
       "        /* gets rid of default border in Firefox and Opera. */\n",
       "        border: none;\n",
       "        /* Needs to be in here for Safari polyfill so background images work as expected. */\n",
       "        background-size: auto;\n",
       "    }\n",
       "    progress:not([value]), progress:not([value])::-webkit-progress-bar {\n",
       "        background: repeating-linear-gradient(45deg, #7e7e7e, #7e7e7e 10px, #5c5c5c 10px, #5c5c5c 20px);\n",
       "    }\n",
       "    .progress-bar-interrupted, .progress-bar-interrupted::-webkit-progress-bar {\n",
       "        background: #F44336;\n",
       "    }\n",
       "</style>\n"
      ],
      "text/plain": [
       "<IPython.core.display.HTML object>"
      ]
     },
     "metadata": {},
     "output_type": "display_data"
    },
    {
     "data": {
      "text/html": [],
      "text/plain": [
       "<IPython.core.display.HTML object>"
      ]
     },
     "metadata": {},
     "output_type": "display_data"
    },
    {
     "data": {
      "text/plain": [
       "SuggestedLRs(valley=0.04786301031708717)"
      ]
     },
     "execution_count": 54,
     "metadata": {},
     "output_type": "execute_result"
    },
    {
     "data": {
      "image/png": "[encoded data removed]",
      "text/plain": [
       "<Figure size 432x288 with 1 Axes>"
      ]
     },
     "metadata": {
      "needs_background": "light"
     },
     "output_type": "display_data"
    }
   ],
   "source": [
    "callbacks = [\n",
    "    ReduceLROnPlateau(factor=0.5, min_lr=1e-6),\n",
    "    EarlyStoppingCallback(patience=5),\n",
    "    # SaveModelCallback()\n",
    "]\n",
    "archs = {\n",
    "    'LSTMPlus': {'n_layers':3, 'bidirectional': True}\n",
    "}\n",
    "model = create_model(TSTPlus, dls=dataloaders, verbose=True)\n",
    "learner = Learner(\n",
    "    dataloaders, model, metrics=[mse, mae]\n",
    ")\n",
    "learner.lr_find()"
   ]
  },
  {
   "cell_type": "code",
   "execution_count": 55,
   "metadata": {},
   "outputs": [
    {
     "data": {
      "text/html": [
       "\n",
       "<style>\n",
       "    /* Turns off some styling */\n",
       "    progress {\n",
       "        /* gets rid of default border in Firefox and Opera. */\n",
       "        border: none;\n",
       "        /* Needs to be in here for Safari polyfill so background images work as expected. */\n",
       "        background-size: auto;\n",
       "    }\n",
       "    progress:not([value]), progress:not([value])::-webkit-progress-bar {\n",
       "        background: repeating-linear-gradient(45deg, #7e7e7e, #7e7e7e 10px, #5c5c5c 10px, #5c5c5c 20px);\n",
       "    }\n",
       "    .progress-bar-interrupted, .progress-bar-interrupted::-webkit-progress-bar {\n",
       "        background: #F44336;\n",
       "    }\n",
       "</style>\n"
      ],
      "text/plain": [
       "<IPython.core.display.HTML object>"
      ]
     },
     "metadata": {},
     "output_type": "display_data"
    },
    {
     "data": {
      "text/html": [
       "<table border=\"1\" class=\"dataframe\">\n",
       "  <thead>\n",
       "    <tr style=\"text-align: left;\">\n",
       "      <th>epoch</th>\n",
       "      <th>train_loss</th>\n",
       "      <th>valid_loss</th>\n",
       "      <th>mse</th>\n",
       "      <th>mae</th>\n",
       "      <th>time</th>\n",
       "    </tr>\n",
       "  </thead>\n",
       "  <tbody>\n",
       "    <tr>\n",
       "      <td>0</td>\n",
       "      <td>2893242.750000</td>\n",
       "      <td>33424628.000000</td>\n",
       "      <td>33424628.000000</td>\n",
       "      <td>4935.940918</td>\n",
       "      <td>01:31</td>\n",
       "    </tr>\n",
       "    <tr>\n",
       "      <td>1</td>\n",
       "      <td>2916043.750000</td>\n",
       "      <td>35351892.000000</td>\n",
       "      <td>35351892.000000</td>\n",
       "      <td>5150.010742</td>\n",
       "      <td>03:49</td>\n",
       "    </tr>\n",
       "    <tr>\n",
       "      <td>2</td>\n",
       "      <td>2981291.500000</td>\n",
       "      <td>33067046.000000</td>\n",
       "      <td>33067046.000000</td>\n",
       "      <td>4932.229004</td>\n",
       "      <td>03:51</td>\n",
       "    </tr>\n",
       "    <tr>\n",
       "      <td>3</td>\n",
       "      <td>2908789.750000</td>\n",
       "      <td>33899084.000000</td>\n",
       "      <td>33899084.000000</td>\n",
       "      <td>5003.193359</td>\n",
       "      <td>04:06</td>\n",
       "    </tr>\n",
       "    <tr>\n",
       "      <td>4</td>\n",
       "      <td>3033225.000000</td>\n",
       "      <td>34537444.000000</td>\n",
       "      <td>34537444.000000</td>\n",
       "      <td>5049.706055</td>\n",
       "      <td>04:20</td>\n",
       "    </tr>\n",
       "    <tr>\n",
       "      <td>5</td>\n",
       "      <td>2969528.750000</td>\n",
       "      <td>33934708.000000</td>\n",
       "      <td>33934708.000000</td>\n",
       "      <td>4960.640137</td>\n",
       "      <td>04:21</td>\n",
       "    </tr>\n",
       "    <tr>\n",
       "      <td>6</td>\n",
       "      <td>3303880.250000</td>\n",
       "      <td>36272200.000000</td>\n",
       "      <td>36272200.000000</td>\n",
       "      <td>4989.996094</td>\n",
       "      <td>03:13</td>\n",
       "    </tr>\n",
       "    <tr>\n",
       "      <td>7</td>\n",
       "      <td>3163850.000000</td>\n",
       "      <td>36075752.000000</td>\n",
       "      <td>36075752.000000</td>\n",
       "      <td>5165.191895</td>\n",
       "      <td>04:09</td>\n",
       "    </tr>\n",
       "  </tbody>\n",
       "</table>"
      ],
      "text/plain": [
       "<IPython.core.display.HTML object>"
      ]
     },
     "metadata": {},
     "output_type": "display_data"
    },
    {
     "name": "stdout",
     "output_type": "stream",
     "text": [
      "No improvement since epoch 2: early stopping\n"
     ]
    },
    {
     "data": {
      "text/plain": [
       "30076"
      ]
     },
     "execution_count": 55,
     "metadata": {},
     "output_type": "execute_result"
    }
   ],
   "source": [
    "learner.fit(n_epoch=10, lr=1e-3, cbs=callbacks)\n",
    "gc.collect()"
   ]
  },
  {
   "cell_type": "code",
   "execution_count": 40,
   "metadata": {},
   "outputs": [
    {
     "data": {
      "image/png": "[encoded data removed]",
      "text/plain": [
       "<Figure size 936x648 with 4 Axes>"
      ]
     },
     "metadata": {
      "needs_background": "light"
     },
     "output_type": "display_data"
    }
   ],
   "source": [
    "learner.plot_metrics()"
   ]
  },
  {
   "cell_type": "code",
   "execution_count": 41,
   "metadata": {},
   "outputs": [],
   "source": [
    "X_train, y_train, X_val, y_val, X_test, y_test = split_Xy(X, y, splits)"
   ]
  },
  {
   "cell_type": "code",
   "execution_count": 299,
   "metadata": {},
   "outputs": [
    {
     "data": {
      "text/html": [
       "\n",
       "<style>\n",
       "    /* Turns off some styling */\n",
       "    progress {\n",
       "        /* gets rid of default border in Firefox and Opera. */\n",
       "        border: none;\n",
       "        /* Needs to be in here for Safari polyfill so background images work as expected. */\n",
       "        background-size: auto;\n",
       "    }\n",
       "    progress:not([value]), progress:not([value])::-webkit-progress-bar {\n",
       "        background: repeating-linear-gradient(45deg, #7e7e7e, #7e7e7e 10px, #5c5c5c 10px, #5c5c5c 20px);\n",
       "    }\n",
       "    .progress-bar-interrupted, .progress-bar-interrupted::-webkit-progress-bar {\n",
       "        background: #F44336;\n",
       "    }\n",
       "</style>\n"
      ],
      "text/plain": [
       "<IPython.core.display.HTML object>"
      ]
     },
     "metadata": {},
     "output_type": "display_data"
    },
    {
     "data": {
      "text/html": [
       "\n",
       "    <div>\n",
       "      <progress value='0' class='' max='573' style='width:300px; height:20px; vertical-align: middle;'></progress>\n",
       "      0.00% [0/573 00:00&lt;?]\n",
       "    </div>\n",
       "    "
      ],
      "text/plain": [
       "<IPython.core.display.HTML object>"
      ]
     },
     "metadata": {},
     "output_type": "display_data"
    }
   ],
   "source": [
    "preds = learner.get_preds(0, with_decoded=False)"
   ]
  },
  {
   "cell_type": "code",
   "execution_count": 300,
   "metadata": {},
   "outputs": [
    {
     "data": {
      "text/plain": [
       "array([[[ 24.,  22.,  22., ...,  56.,  66.,  52.]],\n",
       "\n",
       "       [[ 22.,  22.,  20., ...,  66.,  52.,  20.]],\n",
       "\n",
       "       [[ 22.,  20.,  22., ...,  52.,  20.,  23.]],\n",
       "\n",
       "       ...,\n",
       "\n",
       "       [[132., 122., 133., ...,  99., 142., 147.]],\n",
       "\n",
       "       [[122., 133., 129., ..., 142., 147., 123.]],\n",
       "\n",
       "       [[133., 129., 123., ..., 147., 123., 123.]]], dtype=float32)"
      ]
     },
     "execution_count": 300,
     "metadata": {},
     "output_type": "execute_result"
    }
   ],
   "source": [
    "y_train, preds[0]"
   ]
  },
  {
   "cell_type": "code",
   "execution_count": 42,
   "metadata": {},
   "outputs": [
    {
     "data": {
      "text/html": [
       "\n",
       "<style>\n",
       "    /* Turns off some styling */\n",
       "    progress {\n",
       "        /* gets rid of default border in Firefox and Opera. */\n",
       "        border: none;\n",
       "        /* Needs to be in here for Safari polyfill so background images work as expected. */\n",
       "        background-size: auto;\n",
       "    }\n",
       "    progress:not([value]), progress:not([value])::-webkit-progress-bar {\n",
       "        background: repeating-linear-gradient(45deg, #7e7e7e, #7e7e7e 10px, #5c5c5c 10px, #5c5c5c 20px);\n",
       "    }\n",
       "    .progress-bar-interrupted, .progress-bar-interrupted::-webkit-progress-bar {\n",
       "        background: #F44336;\n",
       "    }\n",
       "</style>\n"
      ],
      "text/plain": [
       "<IPython.core.display.HTML object>"
      ]
     },
     "metadata": {},
     "output_type": "display_data"
    },
    {
     "data": {
      "text/html": [],
      "text/plain": [
       "<IPython.core.display.HTML object>"
      ]
     },
     "metadata": {},
     "output_type": "display_data"
    }
   ],
   "source": [
    "_, _, preds = learner.get_X_preds(X_test)"
   ]
  },
  {
   "cell_type": "code",
   "execution_count": 50,
   "metadata": {},
   "outputs": [],
   "source": [
    "y_preds = np.reshape(preds, y_test.shape)"
   ]
  },
  {
   "cell_type": "code",
   "execution_count": 52,
   "metadata": {},
   "outputs": [
    {
     "data": {
      "text/plain": [
       "(array([[2586.70288086, 2968.31591797, 3197.52416992, 3346.09301758,\n",
       "         3476.81274414, 3597.73413086, 3561.25561523, 3394.43505859,\n",
       "         3087.15185547, 2682.01269531, 2252.69238281, 1835.6607666 ,\n",
       "         1400.54528809, 1097.96679688,  926.84667969,  816.6517334 ,\n",
       "          701.20263672,  601.66210938,  547.01208496,  628.43530273,\n",
       "          918.94256592, 1302.46643066, 1699.14001465, 2150.11206055]]),\n",
       " array([[7366., 7730., 8074., 8118., 8041., 8313., 8051., 8610., 8490.,\n",
       "         9038., 9291., 9104., 9117., 5682., 2629., 2349., 2255., 2184.,\n",
       "         2180., 2162., 2423., 2718., 2761., 3229.]], dtype=float32))"
      ]
     },
     "execution_count": 52,
     "metadata": {},
     "output_type": "execute_result"
    }
   ],
   "source": [
    "y_preds[0], y_test[0]"
   ]
  },
  {
   "cell_type": "code",
   "execution_count": 49,
   "metadata": {},
   "outputs": [
    {
     "data": {
      "text/plain": [
       "15735"
      ]
     },
     "execution_count": 49,
     "metadata": {},
     "output_type": "execute_result"
    }
   ],
   "source": [
    "len(preds)"
   ]
  }
 ],
 "metadata": {
  "kernelspec": {
   "display_name": "Python 3",
   "language": "python",
   "name": "python3"
  },
  "language_info": {
   "codemirror_mode": {
    "name": "ipython",
    "version": 3
   },
   "file_extension": ".py",
   "mimetype": "text/x-python",
   "name": "python",
   "nbconvert_exporter": "python",
   "pygments_lexer": "ipython3",
   "version": "3.10.11"
  },
  "orig_nbformat": 4
 },
 "nbformat": 4,
 "nbformat_minor": 2
}
